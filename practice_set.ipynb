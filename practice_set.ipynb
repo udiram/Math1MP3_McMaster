{
 "cells": [
  {
   "cell_type": "code",
   "execution_count": 1,
   "metadata": {
    "collapsed": true,
    "ExecuteTime": {
     "end_time": "2024-09-03T14:08:09.980364900Z",
     "start_time": "2024-09-03T14:08:09.964481600Z"
    }
   },
   "outputs": [
    {
     "name": "stdout",
     "output_type": "stream",
     "text": [
      "2.5\n"
     ]
    }
   ],
   "source": [
    "print(3-2**-1)"
   ]
  },
  {
   "cell_type": "code",
   "execution_count": 2,
   "outputs": [
    {
     "name": "stdout",
     "output_type": "stream",
     "text": [
      "1.0\n"
     ]
    }
   ],
   "source": [
    "print((3-2)**-1)"
   ],
   "metadata": {
    "collapsed": false,
    "ExecuteTime": {
     "end_time": "2024-09-03T14:08:17.960878900Z",
     "start_time": "2024-09-03T14:08:17.944729700Z"
    }
   }
  },
  {
   "cell_type": "code",
   "execution_count": 3,
   "outputs": [
    {
     "name": "stdout",
     "output_type": "stream",
     "text": [
      "-55.5\n"
     ]
    }
   ],
   "source": [
    "print(3-4/8-12*5+16//7)"
   ],
   "metadata": {
    "collapsed": false,
    "ExecuteTime": {
     "end_time": "2024-09-03T14:08:18.198301500Z",
     "start_time": "2024-09-03T14:08:18.190706200Z"
    }
   }
  },
  {
   "cell_type": "code",
   "execution_count": 4,
   "outputs": [
    {
     "name": "stdout",
     "output_type": "stream",
     "text": [
      "5.076923076923077\n"
     ]
    }
   ],
   "source": [
    "print(3-4/(8-12*5)+16//7)"
   ],
   "metadata": {
    "collapsed": false,
    "ExecuteTime": {
     "end_time": "2024-09-03T14:08:18.438409Z",
     "start_time": "2024-09-03T14:08:18.438409Z"
    }
   }
  },
  {
   "cell_type": "code",
   "execution_count": 5,
   "outputs": [
    {
     "name": "stdout",
     "output_type": "stream",
     "text": [
      "-81.5\n"
     ]
    }
   ],
   "source": [
    "print(3-4/8-12*(5+16//7))"
   ],
   "metadata": {
    "collapsed": false,
    "ExecuteTime": {
     "end_time": "2024-09-03T14:08:18.717326600Z",
     "start_time": "2024-09-03T14:08:18.711434Z"
    }
   }
  },
  {
   "cell_type": "code",
   "execution_count": 6,
   "outputs": [
    {
     "name": "stdout",
     "output_type": "stream",
     "text": [
      "3\n"
     ]
    }
   ],
   "source": [
    "print((98%11)//3)"
   ],
   "metadata": {
    "collapsed": false,
    "ExecuteTime": {
     "end_time": "2024-09-03T14:08:19.309379500Z",
     "start_time": "2024-09-03T14:08:19.302867500Z"
    }
   }
  },
  {
   "cell_type": "code",
   "execution_count": 9,
   "outputs": [
    {
     "name": "stdout",
     "output_type": "stream",
     "text": [
      "134217728\n"
     ]
    }
   ],
   "source": [
    "print(2**3**3)"
   ],
   "metadata": {
    "collapsed": false,
    "ExecuteTime": {
     "end_time": "2024-09-03T14:08:46.125030700Z",
     "start_time": "2024-09-03T14:08:46.123012200Z"
    }
   }
  },
  {
   "cell_type": "code",
   "execution_count": 11,
   "outputs": [
    {
     "name": "stdout",
     "output_type": "stream",
     "text": [
      "q = 10993\n",
      "r = 12\n",
      "q 10993 * denominator 67 + r 12 = 736543\n"
     ]
    }
   ],
   "source": [
    "numerator = 736543\n",
    "denominator = 67\n",
    "q = numerator // denominator # floor division to get the quotient\n",
    "print(f'q = {q}')\n",
    "r = numerator % denominator # modulo division to get the remainder\n",
    "print(f'r = {r}')\n",
    "print(f'q ({q}) * denominator ({denominator}) + r {r} = {q * denominator + r}')"
   ],
   "metadata": {
    "collapsed": false,
    "ExecuteTime": {
     "end_time": "2024-09-03T14:10:36.488722700Z",
     "start_time": "2024-09-03T14:10:36.484442100Z"
    }
   }
  },
  {
   "cell_type": "code",
   "execution_count": 2,
   "outputs": [
    {
     "name": "stdout",
     "output_type": "stream",
     "text": [
      "abcdefghijkl\n"
     ]
    }
   ],
   "source": [
    "alphabet = 'abcdefghijkl'\n",
    "print(alphabet)"
   ],
   "metadata": {
    "collapsed": false,
    "ExecuteTime": {
     "end_time": "2024-09-03T14:19:40.862030600Z",
     "start_time": "2024-09-03T14:19:40.846525400Z"
    }
   }
  },
  {
   "cell_type": "code",
   "execution_count": 8,
   "outputs": [
    {
     "name": "stdout",
     "output_type": "stream",
     "text": [
      "acegik\n"
     ]
    }
   ],
   "source": [
    "print(alphabet[::2]) # [start:stop:step]"
   ],
   "metadata": {
    "collapsed": false,
    "ExecuteTime": {
     "end_time": "2024-09-03T14:24:56.906758800Z",
     "start_time": "2024-09-03T14:24:56.903737Z"
    }
   }
  },
  {
   "cell_type": "code",
   "execution_count": 13,
   "outputs": [
    {
     "name": "stdout",
     "output_type": "stream",
     "text": [
      "abcd ---- ijkl\n"
     ]
    }
   ],
   "source": [
    "print(alphabet[:4], '----', alphabet[-4:])"
   ],
   "metadata": {
    "collapsed": false,
    "ExecuteTime": {
     "end_time": "2024-09-03T14:26:04.299128300Z",
     "start_time": "2024-09-03T14:26:04.291121500Z"
    }
   }
  },
  {
   "cell_type": "code",
   "execution_count": 20,
   "outputs": [
    {
     "name": "stdout",
     "output_type": "stream",
     "text": [
      "(75+150j)\n"
     ]
    }
   ],
   "source": [
    "result = (2 - 1j) * (75 * 1j) # complex number multiplication where 1j is the imaginary unit\n",
    "print(result)"
   ],
   "metadata": {
    "collapsed": false,
    "ExecuteTime": {
     "end_time": "2024-09-03T14:33:37.009239100Z",
     "start_time": "2024-09-03T14:33:37.004426100Z"
    }
   }
  },
  {
   "cell_type": "code",
   "execution_count": 21,
   "outputs": [
    {
     "name": "stdout",
     "output_type": "stream",
     "text": [
      "(-4-4j)\n"
     ]
    }
   ],
   "source": [
    "print((1 + 1j)**5)"
   ],
   "metadata": {
    "collapsed": false,
    "ExecuteTime": {
     "end_time": "2024-09-03T14:34:04.252123800Z",
     "start_time": "2024-09-03T14:34:04.233704800Z"
    }
   }
  },
  {
   "cell_type": "code",
   "execution_count": 22,
   "outputs": [
    {
     "name": "stdout",
     "output_type": "stream",
     "text": [
      "(-0.03+0.04j)\n"
     ]
    }
   ],
   "source": [
    "print((2 - 4*1j)**-2)"
   ],
   "metadata": {
    "collapsed": false,
    "ExecuteTime": {
     "end_time": "2024-09-03T14:34:52.987868800Z",
     "start_time": "2024-09-03T14:34:52.981688Z"
    }
   }
  },
  {
   "cell_type": "code",
   "execution_count": 24,
   "outputs": [
    {
     "name": "stdout",
     "output_type": "stream",
     "text": [
      "(-49-171j)\n"
     ]
    }
   ],
   "source": [
    "print(7*(2- 1j)**4-3*1j)"
   ],
   "metadata": {
    "collapsed": false,
    "ExecuteTime": {
     "end_time": "2024-09-03T14:35:56.625143600Z",
     "start_time": "2024-09-03T14:35:56.623890400Z"
    }
   }
  },
  {
   "cell_type": "code",
   "execution_count": 26,
   "outputs": [
    {
     "name": "stdout",
     "output_type": "stream",
     "text": [
      "69.8\n"
     ]
    }
   ],
   "source": [
    "def c_to_f(c):\n",
    "    return c * 9/5 + 32\n",
    "\n",
    "print(c_to_f(21))"
   ],
   "metadata": {
    "collapsed": false,
    "ExecuteTime": {
     "end_time": "2024-09-03T14:37:19.603496Z",
     "start_time": "2024-09-03T14:37:19.602987900Z"
    }
   }
  },
  {
   "cell_type": "code",
   "execution_count": 27,
   "outputs": [
    {
     "ename": "SyntaxError",
     "evalue": "unmatched ')' (4128941619.py, line 1)",
     "output_type": "error",
     "traceback": [
      "\u001B[1;36m  Cell \u001B[1;32mIn[27], line 1\u001B[1;36m\u001B[0m\n\u001B[1;33m    print(2-(3*(4//5)))) # SyntaxError: invalid syntax, one too many closing brackets\u001B[0m\n\u001B[1;37m                       ^\u001B[0m\n\u001B[1;31mSyntaxError\u001B[0m\u001B[1;31m:\u001B[0m unmatched ')'\n"
     ]
    }
   ],
   "source": [
    "print(2-(3*(4//5)))) # SyntaxError: unmatched ')', one too many closing brackets"
   ],
   "metadata": {
    "collapsed": false,
    "ExecuteTime": {
     "end_time": "2024-09-03T14:38:37.455061500Z",
     "start_time": "2024-09-03T14:38:37.446486400Z"
    }
   }
  },
  {
   "cell_type": "code",
   "execution_count": 28,
   "outputs": [
    {
     "ename": "SyntaxError",
     "evalue": "unmatched ')' (684185828.py, line 1)",
     "output_type": "error",
     "traceback": [
      "\u001B[1;36m  Cell \u001B[1;32mIn[28], line 1\u001B[1;36m\u001B[0m\n\u001B[1;33m    print(2-(3*(4//5))))) # SyntaxError: unmatched ')', two too many closing brackets\u001B[0m\n\u001B[1;37m                       ^\u001B[0m\n\u001B[1;31mSyntaxError\u001B[0m\u001B[1;31m:\u001B[0m unmatched ')'\n"
     ]
    }
   ],
   "source": [
    "print(2-(3*(4//5))))) # SyntaxError: unmatched ')', two too many closing brackets"
   ],
   "metadata": {
    "collapsed": false,
    "ExecuteTime": {
     "end_time": "2024-09-03T14:39:01.073379200Z",
     "start_time": "2024-09-03T14:39:01.073379200Z"
    }
   }
  },
  {
   "cell_type": "code",
   "execution_count": 29,
   "outputs": [
    {
     "ename": "SyntaxError",
     "evalue": "cannot assign to literal here. Maybe you meant '==' instead of '='? (1793356416.py, line 1)",
     "output_type": "error",
     "traceback": [
      "\u001B[1;36m  Cell \u001B[1;32mIn[29], line 1\u001B[1;36m\u001B[0m\n\u001B[1;33m    7.5 = c\u001B[0m\n\u001B[1;37m    ^\u001B[0m\n\u001B[1;31mSyntaxError\u001B[0m\u001B[1;31m:\u001B[0m cannot assign to literal here. Maybe you meant '==' instead of '='?\n"
     ]
    }
   ],
   "source": [
    " 7.5 = c # SyntaxError: can't assign to literal"
   ],
   "metadata": {
    "collapsed": false,
    "ExecuteTime": {
     "end_time": "2024-09-03T14:39:05.958254700Z",
     "start_time": "2024-09-03T14:39:05.956751600Z"
    }
   }
  },
  {
   "cell_type": "code",
   "execution_count": 30,
   "outputs": [
    {
     "ename": "SyntaxError",
     "evalue": "cannot assign to literal here. Maybe you meant '==' instead of '='? (3999324498.py, line 1)",
     "output_type": "error",
     "traceback": [
      "\u001B[1;36m  Cell \u001B[1;32mIn[30], line 1\u001B[1;36m\u001B[0m\n\u001B[1;33m    8 = a+3 # SyntaxError: can't assign to literal\u001B[0m\n\u001B[1;37m    ^\u001B[0m\n\u001B[1;31mSyntaxError\u001B[0m\u001B[1;31m:\u001B[0m cannot assign to literal here. Maybe you meant '==' instead of '='?\n"
     ]
    }
   ],
   "source": [
    "8 = a+3 # SyntaxError: can't assign to literal"
   ],
   "metadata": {
    "collapsed": false,
    "ExecuteTime": {
     "end_time": "2024-09-03T14:39:46.910864700Z",
     "start_time": "2024-09-03T14:39:46.910864700Z"
    }
   }
  },
  {
   "cell_type": "code",
   "execution_count": 34,
   "outputs": [],
   "source": [
    "x = x+1 # this is fine, will increment x by 1"
   ],
   "metadata": {
    "collapsed": false,
    "ExecuteTime": {
     "end_time": "2024-09-03T14:40:57.990373Z",
     "start_time": "2024-09-03T14:40:57.988652100Z"
    }
   }
  },
  {
   "cell_type": "code",
   "execution_count": 37,
   "outputs": [],
   "source": [
    "a += 13 # this is fine, will increment a by 13"
   ],
   "metadata": {
    "collapsed": false,
    "ExecuteTime": {
     "end_time": "2024-09-03T14:41:24.709008100Z",
     "start_time": "2024-09-03T14:41:24.708501400Z"
    }
   }
  },
  {
   "cell_type": "code",
   "execution_count": 38,
   "outputs": [
    {
     "name": "stdout",
     "output_type": "stream",
     "text": [
      "21.09965537333109\n"
     ]
    }
   ],
   "source": [
    "def get_windchill(t, v):\n",
    "    windchill = 13.12 + 0.6215*t - 11.37*v**0.16 + 0.3965*t*v**0.16\n",
    "    return windchill\n",
    "\n",
    "print(get_windchill(20, 5))"
   ],
   "metadata": {
    "collapsed": false,
    "ExecuteTime": {
     "end_time": "2024-09-03T14:42:35.253179800Z",
     "start_time": "2024-09-03T14:42:35.248173500Z"
    }
   }
  },
  {
   "cell_type": "code",
   "execution_count": 41,
   "outputs": [],
   "source": [
    "mysentence = 'Assume that f(x) is a continuous function.'"
   ],
   "metadata": {
    "collapsed": false,
    "ExecuteTime": {
     "end_time": "2024-09-03T14:43:29.868095400Z",
     "start_time": "2024-09-03T14:43:29.862572100Z"
    }
   }
  },
  {
   "cell_type": "code",
   "execution_count": 42,
   "outputs": [
    {
     "name": "stdout",
     "output_type": "stream",
     "text": [
      "A m  \n"
     ]
    }
   ],
   "source": [
    "print(mysentence[0], mysentence[4], mysentence[11])"
   ],
   "metadata": {
    "collapsed": false,
    "ExecuteTime": {
     "end_time": "2024-09-03T14:43:30.213906200Z",
     "start_time": "2024-09-03T14:43:30.203401100Z"
    }
   }
  },
  {
   "cell_type": "code",
   "execution_count": 43,
   "outputs": [
    {
     "name": "stdout",
     "output_type": "stream",
     "text": [
      "s . s\n"
     ]
    }
   ],
   "source": [
    "print(mysentence[1], mysentence[-1], mysentence[-11])"
   ],
   "metadata": {
    "collapsed": false,
    "ExecuteTime": {
     "end_time": "2024-09-03T14:43:49.233695500Z",
     "start_time": "2024-09-03T14:43:49.227165200Z"
    }
   }
  },
  {
   "cell_type": "code",
   "execution_count": 45,
   "outputs": [
    {
     "name": "stdout",
     "output_type": "stream",
     "text": [
      "Assume \n"
     ]
    }
   ],
   "source": [
    "print(mysentence[:7])"
   ],
   "metadata": {
    "collapsed": false,
    "ExecuteTime": {
     "end_time": "2024-09-03T14:43:57.630553100Z",
     "start_time": "2024-09-03T14:43:57.623971300Z"
    }
   }
  },
  {
   "cell_type": "code",
   "execution_count": 46,
   "outputs": [
    {
     "name": "stdout",
     "output_type": "stream",
     "text": [
      "Au af)\n"
     ]
    }
   ],
   "source": [
    "print(mysentence[:16:3])"
   ],
   "metadata": {
    "collapsed": false,
    "ExecuteTime": {
     "end_time": "2024-09-03T14:44:01.473243200Z",
     "start_time": "2024-09-03T14:44:01.473243200Z"
    }
   }
  },
  {
   "cell_type": "code",
   "execution_count": 47,
   "outputs": [
    {
     "name": "stdout",
     "output_type": "stream",
     "text": [
      "Aet)atunn\n"
     ]
    }
   ],
   "source": [
    "print(mysentence[::5])"
   ],
   "metadata": {
    "collapsed": false,
    "ExecuteTime": {
     "end_time": "2024-09-03T14:44:28.905579200Z",
     "start_time": "2024-09-03T14:44:28.899572500Z"
    }
   }
  },
  {
   "cell_type": "code",
   "execution_count": 48,
   "outputs": [
    {
     "name": "stdout",
     "output_type": "stream",
     "text": [
      "Assume that f(x) is a continuo\n"
     ]
    }
   ],
   "source": [
    "print(mysentence[:-12])"
   ],
   "metadata": {
    "collapsed": false,
    "ExecuteTime": {
     "end_time": "2024-09-03T14:44:32.248866600Z",
     "start_time": "2024-09-03T14:44:32.248866600Z"
    }
   }
  },
  {
   "cell_type": "code",
   "execution_count": 49,
   "outputs": [
    {
     "name": "stdout",
     "output_type": "stream",
     "text": [
      "inuous function.\n"
     ]
    }
   ],
   "source": [
    "print(mysentence[-16:])"
   ],
   "metadata": {
    "collapsed": false,
    "ExecuteTime": {
     "end_time": "2024-09-03T14:44:37.592197500Z",
     "start_time": "2024-09-03T14:44:37.578848700Z"
    }
   }
  },
  {
   "cell_type": "code",
   "execution_count": 50,
   "outputs": [
    {
     "name": "stdout",
     "output_type": "stream",
     "text": [
      "u ucin\n"
     ]
    }
   ],
   "source": [
    "print(mysentence[-12::2])"
   ],
   "metadata": {
    "collapsed": false,
    "ExecuteTime": {
     "end_time": "2024-09-03T14:44:40.937861800Z",
     "start_time": "2024-09-03T14:44:40.937861800Z"
    }
   }
  },
  {
   "cell_type": "code",
   "execution_count": 51,
   "outputs": [
    {
     "name": "stdout",
     "output_type": "stream",
     "text": [
      "uuincas xfth msA\n"
     ]
    }
   ],
   "source": [
    "print(mysentence[-12::-2])"
   ],
   "metadata": {
    "collapsed": false,
    "ExecuteTime": {
     "end_time": "2024-09-03T14:44:43.872352700Z",
     "start_time": "2024-09-03T14:44:43.868353200Z"
    }
   }
  },
  {
   "cell_type": "code",
   "execution_count": 52,
   "outputs": [
    {
     "name": "stdout",
     "output_type": "stream",
     "text": [
      "s fu\n"
     ]
    }
   ],
   "source": [
    "print(mysentence[-11:-7])"
   ],
   "metadata": {
    "collapsed": false,
    "ExecuteTime": {
     "end_time": "2024-09-03T14:44:46.721066700Z",
     "start_time": "2024-09-03T14:44:46.721066700Z"
    }
   }
  },
  {
   "cell_type": "code",
   "execution_count": 59,
   "outputs": [
    {
     "name": "stdout",
     "output_type": "stream",
     "text": [
      "\n"
     ]
    }
   ],
   "source": [
    "print(mysentence[-7:-11])"
   ],
   "metadata": {
    "collapsed": false,
    "ExecuteTime": {
     "end_time": "2024-09-03T14:45:31.377068800Z",
     "start_time": "2024-09-03T14:45:31.360162900Z"
    }
   }
  },
  {
   "cell_type": "code",
   "execution_count": 60,
   "outputs": [],
   "source": [
    "sentence = 'Python programming language'"
   ],
   "metadata": {
    "collapsed": false,
    "ExecuteTime": {
     "end_time": "2024-09-03T14:46:29.325175100Z",
     "start_time": "2024-09-03T14:46:29.325175100Z"
    }
   }
  },
  {
   "cell_type": "code",
   "execution_count": 68,
   "outputs": [
    {
     "name": "stdout",
     "output_type": "stream",
     "text": [
      "mming languag\n"
     ]
    }
   ],
   "source": [
    "print(sentence[-14:-1]) # mming languag, take last 14 chars and exclude the last one"
   ],
   "metadata": {
    "collapsed": false,
    "ExecuteTime": {
     "end_time": "2024-09-03T14:54:26.718362Z",
     "start_time": "2024-09-03T14:54:26.706921900Z"
    }
   }
  },
  {
   "cell_type": "code",
   "execution_count": 69,
   "outputs": [
    {
     "name": "stdout",
     "output_type": "stream",
     "text": [
      "Ph oai na\n"
     ]
    }
   ],
   "source": [
    "print(sentence[::3]) #  Ph oai na, take every 3rd char, although original prompt was  Ph oaing, i presume this was a mistake"
   ],
   "metadata": {
    "collapsed": false,
    "ExecuteTime": {
     "end_time": "2024-09-03T14:54:26.845343Z",
     "start_time": "2024-09-03T14:54:26.840755200Z"
    }
   }
  },
  {
   "cell_type": "code",
   "execution_count": 70,
   "outputs": [
    {
     "name": "stdout",
     "output_type": "stream",
     "text": [
      "egaugnal\n"
     ]
    }
   ],
   "source": [
    "print(sentence[-8:][::-1]) # egaugnal, take last 8 chars and reverse them"
   ],
   "metadata": {
    "collapsed": false,
    "ExecuteTime": {
     "end_time": "2024-09-03T14:54:27.211653600Z",
     "start_time": "2024-09-03T14:54:27.195833300Z"
    }
   }
  },
  {
   "cell_type": "code",
   "execution_count": 76,
   "outputs": [
    {
     "name": "stdout",
     "output_type": "stream",
     "text": [
      "gimropn\n"
     ]
    }
   ],
   "source": [
    "print(sentence[5:18][::-2]) # gimropn, take chars from 5 to 18, and reverse every 2nd char"
   ],
   "metadata": {
    "collapsed": false,
    "ExecuteTime": {
     "end_time": "2024-09-03T14:55:40.222560800Z",
     "start_time": "2024-09-03T14:55:40.213816500Z"
    }
   }
  },
  {
   "cell_type": "code",
   "execution_count": 77,
   "outputs": [],
   "source": [
    "def reverse_string(s):\n",
    "    return s[::-1]"
   ],
   "metadata": {
    "collapsed": false,
    "ExecuteTime": {
     "end_time": "2024-09-03T14:56:15.699114500Z",
     "start_time": "2024-09-03T14:56:15.699114500Z"
    }
   }
  },
  {
   "cell_type": "code",
   "execution_count": 79,
   "outputs": [
    {
     "name": "stdout",
     "output_type": "stream",
     "text": [
      "yadoT enihsnuS\n"
     ]
    }
   ],
   "source": [
    "print(reverse_string('Sunshine Today'))"
   ],
   "metadata": {
    "collapsed": false,
    "ExecuteTime": {
     "end_time": "2024-09-03T14:56:29.064642Z",
     "start_time": "2024-09-03T14:56:29.060433500Z"
    }
   }
  },
  {
   "cell_type": "code",
   "execution_count": 0,
   "outputs": [],
   "source": [
    "town1 = 'Halifax NS'\n",
    "town2 = 'Toronto ON'"
   ],
   "metadata": {
    "collapsed": false
   }
  },
  {
   "cell_type": "code",
   "execution_count": 81,
   "outputs": [
    {
     "ename": "NameError",
     "evalue": "name 'Halifax' is not defined",
     "output_type": "error",
     "traceback": [
      "\u001B[1;31m---------------------------------------------------------------------------\u001B[0m",
      "\u001B[1;31mNameError\u001B[0m                                 Traceback (most recent call last)",
      "Cell \u001B[1;32mIn[81], line 4\u001B[0m\n\u001B[0;32m      1\u001B[0m town1 \u001B[38;5;241m=\u001B[39m \u001B[38;5;124m'\u001B[39m\u001B[38;5;124mHalifax NS\u001B[39m\u001B[38;5;124m'\u001B[39m\n\u001B[0;32m      2\u001B[0m town2 \u001B[38;5;241m=\u001B[39m \u001B[38;5;124m'\u001B[39m\u001B[38;5;124mToronto ON\u001B[39m\u001B[38;5;124m'\u001B[39m\n\u001B[1;32m----> 4\u001B[0m \u001B[38;5;28mprint\u001B[39m(\u001B[43mHalifax\u001B[49m \u001B[38;5;129;01min\u001B[39;00m town1)\n",
      "\u001B[1;31mNameError\u001B[0m: name 'Halifax' is not defined"
     ]
    }
   ],
   "source": [
    "print(Halifax in town1) # NameError: name 'Halifax' is not defined"
   ],
   "metadata": {
    "collapsed": false,
    "ExecuteTime": {
     "end_time": "2024-09-03T14:57:15.721403300Z",
     "start_time": "2024-09-03T14:57:15.702521Z"
    }
   }
  },
  {
   "cell_type": "code",
   "execution_count": 82,
   "outputs": [
    {
     "name": "stdout",
     "output_type": "stream",
     "text": [
      "True\n"
     ]
    }
   ],
   "source": [
    "print('Halifax' in town1) # True"
   ],
   "metadata": {
    "collapsed": false,
    "ExecuteTime": {
     "end_time": "2024-09-03T14:57:33.686327700Z",
     "start_time": "2024-09-03T14:57:33.686327700Z"
    }
   }
  },
  {
   "cell_type": "code",
   "execution_count": 84,
   "outputs": [
    {
     "name": "stdout",
     "output_type": "stream",
     "text": [
      "False\n"
     ]
    }
   ],
   "source": [
    "print('TorontoON' in town2) # False"
   ],
   "metadata": {
    "collapsed": false,
    "ExecuteTime": {
     "end_time": "2024-09-03T14:57:48.660896300Z",
     "start_time": "2024-09-03T14:57:48.660393Z"
    }
   }
  },
  {
   "cell_type": "code",
   "execution_count": 85,
   "outputs": [
    {
     "name": "stdout",
     "output_type": "stream",
     "text": [
      "Halifax NSToronto ON\n"
     ]
    }
   ],
   "source": [
    "print(town1 + town2) # Halifax NSToronto ON"
   ],
   "metadata": {
    "collapsed": false,
    "ExecuteTime": {
     "end_time": "2024-09-03T14:57:56.124157800Z",
     "start_time": "2024-09-03T14:57:56.124157800Z"
    }
   }
  },
  {
   "cell_type": "code",
   "execution_count": 86,
   "outputs": [
    {
     "name": "stdout",
     "output_type": "stream",
     "text": [
      "Toronto ONHalifax NS\n"
     ]
    }
   ],
   "source": [
    "print(town2 + town1) # Toronto ONHalifax NS"
   ],
   "metadata": {
    "collapsed": false,
    "ExecuteTime": {
     "end_time": "2024-09-03T14:58:03.994793100Z",
     "start_time": "2024-09-03T14:58:03.971195800Z"
    }
   }
  },
  {
   "cell_type": "code",
   "execution_count": 88,
   "outputs": [
    {
     "name": "stdout",
     "output_type": "stream",
     "text": [
      "Halifax NSHalifax NSHalifax NS\n"
     ]
    }
   ],
   "source": [
    "print(town1*3) # Halifax NSHalifax NSHalifax NS"
   ],
   "metadata": {
    "collapsed": false,
    "ExecuteTime": {
     "end_time": "2024-09-03T14:58:23.173404700Z",
     "start_time": "2024-09-03T14:58:23.169917100Z"
    }
   }
  },
  {
   "cell_type": "code",
   "execution_count": 90,
   "outputs": [
    {
     "name": "stdout",
     "output_type": "stream",
     "text": [
      "Toronto ONHalifax NSHalifax NS\n"
     ]
    }
   ],
   "source": [
    "print(town2+2*town1) # Toronto ONHalifax NSHalifax NS"
   ],
   "metadata": {
    "collapsed": false,
    "ExecuteTime": {
     "end_time": "2024-09-03T14:58:50.269924800Z",
     "start_time": "2024-09-03T14:58:50.269421Z"
    }
   }
  },
  {
   "cell_type": "code",
   "execution_count": 91,
   "outputs": [
    {
     "name": "stdout",
     "output_type": "stream",
     "text": [
      "Halifax NSandToronto ON\n"
     ]
    }
   ],
   "source": [
    "print(town1 + 'and' + town2) # Halifax NSandToronto ON"
   ],
   "metadata": {
    "collapsed": false,
    "ExecuteTime": {
     "end_time": "2024-09-03T14:59:05.845600500Z",
     "start_time": "2024-09-03T14:59:05.845600500Z"
    }
   }
  },
  {
   "cell_type": "code",
   "execution_count": 92,
   "outputs": [
    {
     "name": "stdout",
     "output_type": "stream",
     "text": [
      "Halifax NS and Toronto ON\n"
     ]
    }
   ],
   "source": [
    "print(town1 + ' and ' + town2) # Halifax NS and Toronto ON"
   ],
   "metadata": {
    "collapsed": false,
    "ExecuteTime": {
     "end_time": "2024-09-03T14:59:10.482933Z",
     "start_time": "2024-09-03T14:59:10.482933Z"
    }
   }
  },
  {
   "cell_type": "code",
   "execution_count": 96,
   "outputs": [],
   "source": [
    "def string_and_backwards_string(s):\n",
    "    return s + s[::-1]"
   ],
   "metadata": {
    "collapsed": false,
    "ExecuteTime": {
     "end_time": "2024-09-03T14:59:48.318183300Z",
     "start_time": "2024-09-03T14:59:48.314467300Z"
    }
   }
  },
  {
   "cell_type": "code",
   "execution_count": 97,
   "outputs": [
    {
     "name": "stdout",
     "output_type": "stream",
     "text": [
      "sunnyynnus\n"
     ]
    }
   ],
   "source": [
    "print(string_and_backwards_string('sunny'))"
   ],
   "metadata": {
    "collapsed": false,
    "ExecuteTime": {
     "end_time": "2024-09-03T14:59:49.830802600Z",
     "start_time": "2024-09-03T14:59:49.823609Z"
    }
   }
  },
  {
   "cell_type": "code",
   "execution_count": 98,
   "outputs": [],
   "source": [
    "Alist = [9,-4,33,2,89,100,36,11]"
   ],
   "metadata": {
    "collapsed": false,
    "ExecuteTime": {
     "end_time": "2024-09-03T15:00:09.811451300Z",
     "start_time": "2024-09-03T15:00:09.796945200Z"
    }
   }
  },
  {
   "cell_type": "code",
   "execution_count": 100,
   "outputs": [
    {
     "name": "stdout",
     "output_type": "stream",
     "text": [
      "33\n"
     ]
    }
   ],
   "source": [
    "print(Alist[2])"
   ],
   "metadata": {
    "collapsed": false,
    "ExecuteTime": {
     "end_time": "2024-09-03T15:00:26.003110700Z",
     "start_time": "2024-09-03T15:00:25.987047700Z"
    }
   }
  },
  {
   "cell_type": "code",
   "execution_count": 101,
   "outputs": [
    {
     "ename": "TypeError",
     "evalue": "'int' object is not subscriptable",
     "output_type": "error",
     "traceback": [
      "\u001B[1;31m---------------------------------------------------------------------------\u001B[0m",
      "\u001B[1;31mTypeError\u001B[0m                                 Traceback (most recent call last)",
      "Cell \u001B[1;32mIn[101], line 1\u001B[0m\n\u001B[1;32m----> 1\u001B[0m \u001B[38;5;28mprint\u001B[39m(\u001B[43mAlist\u001B[49m\u001B[43m[\u001B[49m\u001B[38;5;241;43m2\u001B[39;49m\u001B[43m]\u001B[49m\u001B[43m[\u001B[49m\u001B[38;5;241;43m1\u001B[39;49m\u001B[43m]\u001B[49m)\n",
      "\u001B[1;31mTypeError\u001B[0m: 'int' object is not subscriptable"
     ]
    }
   ],
   "source": [
    "print(Alist[2][1]) # TypeError: 'int' object is not subscriptable"
   ],
   "metadata": {
    "collapsed": false,
    "ExecuteTime": {
     "end_time": "2024-09-03T15:00:33.271455300Z",
     "start_time": "2024-09-03T15:00:33.255695600Z"
    }
   }
  },
  {
   "cell_type": "code",
   "execution_count": 102,
   "outputs": [],
   "source": [
    "Blist = [True,False,True,True,False,True,True,True]"
   ],
   "metadata": {
    "collapsed": false,
    "ExecuteTime": {
     "end_time": "2024-09-03T15:01:00.712488Z",
     "start_time": "2024-09-03T15:01:00.700479900Z"
    }
   }
  },
  {
   "cell_type": "code",
   "execution_count": 103,
   "outputs": [
    {
     "name": "stdout",
     "output_type": "stream",
     "text": [
      "True\n"
     ]
    }
   ],
   "source": [
    "print(Blist[3])"
   ],
   "metadata": {
    "collapsed": false,
    "ExecuteTime": {
     "end_time": "2024-09-03T15:01:05.361183600Z",
     "start_time": "2024-09-03T15:01:05.361183600Z"
    }
   }
  },
  {
   "cell_type": "code",
   "execution_count": 104,
   "outputs": [
    {
     "ename": "TypeError",
     "evalue": "'bool' object is not subscriptable",
     "output_type": "error",
     "traceback": [
      "\u001B[1;31m---------------------------------------------------------------------------\u001B[0m",
      "\u001B[1;31mTypeError\u001B[0m                                 Traceback (most recent call last)",
      "Cell \u001B[1;32mIn[104], line 1\u001B[0m\n\u001B[1;32m----> 1\u001B[0m \u001B[38;5;28mprint\u001B[39m(\u001B[43mBlist\u001B[49m\u001B[43m[\u001B[49m\u001B[38;5;241;43m3\u001B[39;49m\u001B[43m]\u001B[49m\u001B[43m[\u001B[49m\u001B[38;5;241;43m1\u001B[39;49m\u001B[43m]\u001B[49m) \u001B[38;5;66;03m# TypeError: 'bool' object is not subscriptable\u001B[39;00m\n",
      "\u001B[1;31mTypeError\u001B[0m: 'bool' object is not subscriptable"
     ]
    }
   ],
   "source": [
    "print(Blist[3][1]) # TypeError: 'bool' object is not subscriptable"
   ],
   "metadata": {
    "collapsed": false,
    "ExecuteTime": {
     "end_time": "2024-09-03T15:01:07.363017300Z",
     "start_time": "2024-09-03T15:01:07.354884400Z"
    }
   }
  },
  {
   "cell_type": "code",
   "execution_count": 105,
   "outputs": [],
   "source": [
    "Dlist = [[9,-4],[33,2],[89,100],[36,11],[0,6],[1,-2]]"
   ],
   "metadata": {
    "collapsed": false,
    "ExecuteTime": {
     "end_time": "2024-09-03T15:01:22.107933400Z",
     "start_time": "2024-09-03T15:01:22.101395500Z"
    }
   }
  },
  {
   "cell_type": "code",
   "execution_count": 106,
   "outputs": [
    {
     "name": "stdout",
     "output_type": "stream",
     "text": [
      "[0, 6]\n"
     ]
    }
   ],
   "source": [
    "print(Dlist[4])"
   ],
   "metadata": {
    "collapsed": false,
    "ExecuteTime": {
     "end_time": "2024-09-03T15:01:27.232845100Z",
     "start_time": "2024-09-03T15:01:27.232845100Z"
    }
   }
  },
  {
   "cell_type": "code",
   "execution_count": 107,
   "outputs": [
    {
     "name": "stdout",
     "output_type": "stream",
     "text": [
      "6\n"
     ]
    }
   ],
   "source": [
    "print(Dlist[4][1])"
   ],
   "metadata": {
    "collapsed": false,
    "ExecuteTime": {
     "end_time": "2024-09-03T15:01:29.702076400Z",
     "start_time": "2024-09-03T15:01:29.702076400Z"
    }
   }
  },
  {
   "cell_type": "code",
   "execution_count": 108,
   "outputs": [],
   "source": [
    "Flist = [[True,False,True,False],[False,True],[True,True]]"
   ],
   "metadata": {
    "collapsed": false,
    "ExecuteTime": {
     "end_time": "2024-09-03T15:01:51.139985600Z",
     "start_time": "2024-09-03T15:01:51.123846700Z"
    }
   }
  },
  {
   "cell_type": "code",
   "execution_count": 109,
   "outputs": [
    {
     "name": "stdout",
     "output_type": "stream",
     "text": [
      "[True, True]\n"
     ]
    }
   ],
   "source": [
    "print(Flist[2])"
   ],
   "metadata": {
    "collapsed": false,
    "ExecuteTime": {
     "end_time": "2024-09-03T15:01:55.470971600Z",
     "start_time": "2024-09-03T15:01:55.462464Z"
    }
   }
  },
  {
   "cell_type": "code",
   "execution_count": 110,
   "outputs": [
    {
     "name": "stdout",
     "output_type": "stream",
     "text": [
      "False\n"
     ]
    }
   ],
   "source": [
    "print(Flist[1][0])"
   ],
   "metadata": {
    "collapsed": false,
    "ExecuteTime": {
     "end_time": "2024-09-03T15:02:06.402465300Z",
     "start_time": "2024-09-03T15:02:06.370816200Z"
    }
   }
  },
  {
   "cell_type": "code",
   "execution_count": 111,
   "outputs": [
    {
     "name": "stdout",
     "output_type": "stream",
     "text": [
      "False\n"
     ]
    }
   ],
   "source": [
    "print(Flist[0][1])"
   ],
   "metadata": {
    "collapsed": false,
    "ExecuteTime": {
     "end_time": "2024-09-03T15:02:11.945124600Z",
     "start_time": "2024-09-03T15:02:11.945124600Z"
    }
   }
  },
  {
   "cell_type": "code",
   "execution_count": 113,
   "outputs": [],
   "source": [
    "Matrix = [[1, 21], [3, 16], [5, 43]]\n",
    "Matrix_cols = [[1,3,5], [21,16,43]]"
   ],
   "metadata": {
    "collapsed": false,
    "ExecuteTime": {
     "end_time": "2024-09-03T15:03:26.754881800Z",
     "start_time": "2024-09-03T15:03:26.754378500Z"
    }
   }
  },
  {
   "cell_type": "code",
   "execution_count": 114,
   "outputs": [],
   "source": [
    "Clist = [19,-2,4,3,-2,-2,1,9]"
   ],
   "metadata": {
    "collapsed": false,
    "ExecuteTime": {
     "end_time": "2024-09-03T15:03:36.256562700Z",
     "start_time": "2024-09-03T15:03:36.233425Z"
    }
   }
  },
  {
   "cell_type": "code",
   "execution_count": 115,
   "outputs": [
    {
     "name": "stdout",
     "output_type": "stream",
     "text": [
      "-2\n"
     ]
    }
   ],
   "source": [
    "print(Clist[4])"
   ],
   "metadata": {
    "collapsed": false,
    "ExecuteTime": {
     "end_time": "2024-09-03T15:03:50.951680700Z",
     "start_time": "2024-09-03T15:03:50.939501600Z"
    }
   }
  },
  {
   "cell_type": "code",
   "execution_count": 117,
   "outputs": [
    {
     "ename": "IndexError",
     "evalue": "list index out of range",
     "output_type": "error",
     "traceback": [
      "\u001B[1;31m---------------------------------------------------------------------------\u001B[0m",
      "\u001B[1;31mIndexError\u001B[0m                                Traceback (most recent call last)",
      "Cell \u001B[1;32mIn[117], line 1\u001B[0m\n\u001B[1;32m----> 1\u001B[0m \u001B[38;5;28mprint\u001B[39m(\u001B[43mClist\u001B[49m\u001B[43m[\u001B[49m\u001B[38;5;241;43m8\u001B[39;49m\u001B[43m]\u001B[49m) \u001B[38;5;66;03m# IndexError: list index out of range\u001B[39;00m\n",
      "\u001B[1;31mIndexError\u001B[0m: list index out of range"
     ]
    }
   ],
   "source": [
    "print(Clist[8]) # IndexError: list index out of range"
   ],
   "metadata": {
    "collapsed": false,
    "ExecuteTime": {
     "end_time": "2024-09-03T15:04:14.000217500Z",
     "start_time": "2024-09-03T15:04:13.981365900Z"
    }
   }
  },
  {
   "cell_type": "code",
   "execution_count": 118,
   "outputs": [
    {
     "name": "stdout",
     "output_type": "stream",
     "text": [
      "[19, -2, 4, 3]\n"
     ]
    }
   ],
   "source": [
    "print(Clist[:4])"
   ],
   "metadata": {
    "collapsed": false,
    "ExecuteTime": {
     "end_time": "2024-09-03T15:04:21.050928500Z",
     "start_time": "2024-09-03T15:04:21.030253500Z"
    }
   }
  },
  {
   "cell_type": "code",
   "execution_count": 119,
   "outputs": [
    {
     "name": "stdout",
     "output_type": "stream",
     "text": [
      "[19, -2, 4, 3]\n"
     ]
    }
   ],
   "source": [
    "print(Clist[:4:1])"
   ],
   "metadata": {
    "collapsed": false,
    "ExecuteTime": {
     "end_time": "2024-09-03T15:04:32.711106300Z",
     "start_time": "2024-09-03T15:04:32.711106300Z"
    }
   }
  },
  {
   "cell_type": "code",
   "execution_count": 120,
   "outputs": [
    {
     "name": "stdout",
     "output_type": "stream",
     "text": [
      "[3, -2, -2, 1, 9]\n"
     ]
    }
   ],
   "source": [
    "print(Clist[3::1])"
   ],
   "metadata": {
    "collapsed": false,
    "ExecuteTime": {
     "end_time": "2024-09-03T15:04:46.811167100Z",
     "start_time": "2024-09-03T15:04:46.811167100Z"
    }
   }
  },
  {
   "cell_type": "code",
   "execution_count": 121,
   "outputs": [
    {
     "name": "stdout",
     "output_type": "stream",
     "text": [
      "[3, -2, -2, 1, 9]\n"
     ]
    }
   ],
   "source": [
    "print(Clist[3:9:1])"
   ],
   "metadata": {
    "collapsed": false,
    "ExecuteTime": {
     "end_time": "2024-09-03T15:05:06.245372900Z",
     "start_time": "2024-09-03T15:05:06.233339800Z"
    }
   }
  },
  {
   "cell_type": "code",
   "execution_count": 122,
   "outputs": [
    {
     "name": "stdout",
     "output_type": "stream",
     "text": [
      "[3, -2, 9]\n"
     ]
    }
   ],
   "source": [
    "print(Clist[3::2])"
   ],
   "metadata": {
    "collapsed": false,
    "ExecuteTime": {
     "end_time": "2024-09-03T15:05:19.732346200Z",
     "start_time": "2024-09-03T15:05:19.716701200Z"
    }
   }
  },
  {
   "cell_type": "code",
   "execution_count": 123,
   "outputs": [
    {
     "name": "stdout",
     "output_type": "stream",
     "text": [
      "[3, 1]\n"
     ]
    }
   ],
   "source": [
    "print(Clist[3::3])"
   ],
   "metadata": {
    "collapsed": false,
    "ExecuteTime": {
     "end_time": "2024-09-03T15:05:24.372302800Z",
     "start_time": "2024-09-03T15:05:24.356286200Z"
    }
   }
  },
  {
   "cell_type": "code",
   "execution_count": 124,
   "outputs": [
    {
     "name": "stdout",
     "output_type": "stream",
     "text": [
      "[]\n"
     ]
    }
   ],
   "source": [
    "print(Clist[-4:-4])"
   ],
   "metadata": {
    "collapsed": false,
    "ExecuteTime": {
     "end_time": "2024-09-03T15:05:29.905966300Z",
     "start_time": "2024-09-03T15:05:29.890216800Z"
    }
   }
  },
  {
   "cell_type": "code",
   "execution_count": 125,
   "outputs": [
    {
     "name": "stdout",
     "output_type": "stream",
     "text": [
      "[-2, -2, 1]\n"
     ]
    }
   ],
   "source": [
    "print(Clist[-4:-1])"
   ],
   "metadata": {
    "collapsed": false,
    "ExecuteTime": {
     "end_time": "2024-09-03T15:05:32.977413500Z",
     "start_time": "2024-09-03T15:05:32.961848800Z"
    }
   }
  },
  {
   "cell_type": "code",
   "execution_count": 126,
   "outputs": [
    {
     "name": "stdout",
     "output_type": "stream",
     "text": [
      "[-2, 1, 9]\n"
     ]
    }
   ],
   "source": [
    "print(Clist[-3:])"
   ],
   "metadata": {
    "collapsed": false,
    "ExecuteTime": {
     "end_time": "2024-09-03T15:05:37.199125700Z",
     "start_time": "2024-09-03T15:05:37.159094Z"
    }
   }
  },
  {
   "cell_type": "code",
   "execution_count": 127,
   "outputs": [
    {
     "name": "stdout",
     "output_type": "stream",
     "text": [
      "[19, -2, 4, 3, -2]\n"
     ]
    }
   ],
   "source": [
    "print(Clist[:-3])"
   ],
   "metadata": {
    "collapsed": false,
    "ExecuteTime": {
     "end_time": "2024-09-03T15:06:03.201941900Z",
     "start_time": "2024-09-03T15:06:03.188931100Z"
    }
   }
  },
  {
   "cell_type": "code",
   "execution_count": 128,
   "outputs": [
    {
     "name": "stdout",
     "output_type": "stream",
     "text": [
      "[9, 1, -2, -2, 3, 4, -2, 19]\n"
     ]
    }
   ],
   "source": [
    "print(Clist[::-1])"
   ],
   "metadata": {
    "collapsed": false,
    "ExecuteTime": {
     "end_time": "2024-09-03T15:06:07.275439900Z",
     "start_time": "2024-09-03T15:06:07.275439900Z"
    }
   }
  },
  {
   "cell_type": "code",
   "execution_count": 129,
   "outputs": [
    {
     "name": "stdout",
     "output_type": "stream",
     "text": [
      "[9]\n"
     ]
    }
   ],
   "source": [
    "print(Clist[-1:6:-1])"
   ],
   "metadata": {
    "collapsed": false,
    "ExecuteTime": {
     "end_time": "2024-09-03T15:06:11.640396800Z",
     "start_time": "2024-09-03T15:06:11.625846800Z"
    }
   }
  },
  {
   "cell_type": "code",
   "execution_count": 130,
   "outputs": [
    {
     "name": "stdout",
     "output_type": "stream",
     "text": [
      "[]\n"
     ]
    }
   ],
   "source": [
    "print(Clist[-9:6:-1])"
   ],
   "metadata": {
    "collapsed": false,
    "ExecuteTime": {
     "end_time": "2024-09-03T15:06:14.762026800Z",
     "start_time": "2024-09-03T15:06:14.762026800Z"
    }
   }
  },
  {
   "cell_type": "code",
   "execution_count": 131,
   "outputs": [
    {
     "name": "stdout",
     "output_type": "stream",
     "text": [
      "[-2, 3, 4, -2]\n"
     ]
    }
   ],
   "source": [
    "print(Clist[-4:-8:-1])"
   ],
   "metadata": {
    "collapsed": false,
    "ExecuteTime": {
     "end_time": "2024-09-03T15:06:17.607836800Z",
     "start_time": "2024-09-03T15:06:17.591631600Z"
    }
   }
  },
  {
   "cell_type": "code",
   "execution_count": 132,
   "outputs": [
    {
     "name": "stdout",
     "output_type": "stream",
     "text": [
      "[-2, 3, -2]\n"
     ]
    }
   ],
   "source": [
    "print(Clist[-3::-2])"
   ],
   "metadata": {
    "collapsed": false,
    "ExecuteTime": {
     "end_time": "2024-09-03T15:06:20.282515400Z",
     "start_time": "2024-09-03T15:06:20.282515400Z"
    }
   }
  },
  {
   "cell_type": "code",
   "execution_count": 133,
   "outputs": [
    {
     "name": "stdout",
     "output_type": "stream",
     "text": [
      "[3, -2]\n"
     ]
    }
   ],
   "source": [
    "print(Clist[3::-2])"
   ],
   "metadata": {
    "collapsed": false,
    "ExecuteTime": {
     "end_time": "2024-09-03T15:06:22.933069600Z",
     "start_time": "2024-09-03T15:06:22.933069600Z"
    }
   }
  },
  {
   "cell_type": "code",
   "execution_count": 134,
   "outputs": [
    {
     "name": "stdout",
     "output_type": "stream",
     "text": [
      "[9]\n"
     ]
    }
   ],
   "source": [
    "print(Clist[:-3:-2])"
   ],
   "metadata": {
    "collapsed": false,
    "ExecuteTime": {
     "end_time": "2024-09-03T15:06:25.686602600Z",
     "start_time": "2024-09-03T15:06:25.686602600Z"
    }
   }
  },
  {
   "cell_type": "code",
   "execution_count": 135,
   "outputs": [
    {
     "name": "stdout",
     "output_type": "stream",
     "text": [
      "[3, -2]\n"
     ]
    }
   ],
   "source": [
    "print(Clist[3::-2])"
   ],
   "metadata": {
    "collapsed": false,
    "ExecuteTime": {
     "end_time": "2024-09-03T15:06:29.497911200Z",
     "start_time": "2024-09-03T15:06:29.462856800Z"
    }
   }
  },
  {
   "cell_type": "code",
   "execution_count": 137,
   "outputs": [
    {
     "name": "stdout",
     "output_type": "stream",
     "text": [
      "[1, 47, 3, 4, 5]\n"
     ]
    }
   ],
   "source": [
    "x = [1,2,3,4,5]\n",
    "y = x\n",
    "x[1] = 47\n",
    "print(y)"
   ],
   "metadata": {
    "collapsed": false,
    "ExecuteTime": {
     "end_time": "2024-09-03T15:08:08.127081700Z",
     "start_time": "2024-09-03T15:08:08.126543300Z"
    }
   }
  },
  {
   "cell_type": "code",
   "execution_count": 138,
   "outputs": [
    {
     "name": "stdout",
     "output_type": "stream",
     "text": [
      "[1, 2, 3, -4, 5]\n"
     ]
    }
   ],
   "source": [
    "x = [1,2,3,4,5]\n",
    "y = x\n",
    "y[3] = -4\n",
    "print(y)"
   ],
   "metadata": {
    "collapsed": false,
    "ExecuteTime": {
     "end_time": "2024-09-03T15:08:36.421227300Z",
     "start_time": "2024-09-03T15:08:36.421227300Z"
    }
   }
  },
  {
   "cell_type": "code",
   "execution_count": 139,
   "outputs": [
    {
     "name": "stdout",
     "output_type": "stream",
     "text": [
      "[1, 2, 3, 4, 5, 6, 7]\n"
     ]
    }
   ],
   "source": [
    "x = [1,2,3,4,5]\n",
    "y = [6, 7]\n",
    "x.extend(y)\n",
    "print(x)"
   ],
   "metadata": {
    "collapsed": false,
    "ExecuteTime": {
     "end_time": "2024-09-03T15:09:19.852461400Z",
     "start_time": "2024-09-03T15:09:19.852461400Z"
    }
   }
  },
  {
   "cell_type": "code",
   "execution_count": 140,
   "outputs": [
    {
     "name": "stdout",
     "output_type": "stream",
     "text": [
      "[1, 2, 3, 4, 5, [6, 7]]\n"
     ]
    }
   ],
   "source": [
    "x = [1,2,3,4,5]\n",
    "y = [6, 7]\n",
    "x.append(y)\n",
    "print(x)"
   ],
   "metadata": {
    "collapsed": false,
    "ExecuteTime": {
     "end_time": "2024-09-03T15:09:33.549794400Z",
     "start_time": "2024-09-03T15:09:33.549794400Z"
    }
   }
  },
  {
   "cell_type": "code",
   "execution_count": 141,
   "outputs": [
    {
     "name": "stdout",
     "output_type": "stream",
     "text": [
      "[1, 2, 3, 4, 5, 6, 7]\n"
     ]
    }
   ],
   "source": [
    "x = [1,2,3,4,5]\n",
    "y = [6, 7]\n",
    "z = x + y\n",
    "print(z)"
   ],
   "metadata": {
    "collapsed": false,
    "ExecuteTime": {
     "end_time": "2024-09-03T15:09:51.639015300Z",
     "start_time": "2024-09-03T15:09:51.639015300Z"
    }
   }
  },
  {
   "cell_type": "code",
   "execution_count": 144,
   "outputs": [
    {
     "name": "stdout",
     "output_type": "stream",
     "text": [
      "[1, 2, 3, 4, 5, 6]\n"
     ]
    }
   ],
   "source": [
    "def my_append(List1, A):\n",
    "    appended = List1 + [A]\n",
    "    return appended\n",
    "\n",
    "print(my_append([1,2,3,4,5], 6))"
   ],
   "metadata": {
    "collapsed": false,
    "ExecuteTime": {
     "end_time": "2024-09-03T15:12:15.366067700Z",
     "start_time": "2024-09-03T15:12:15.350388600Z"
    }
   }
  },
  {
   "cell_type": "code",
   "execution_count": 147,
   "outputs": [
    {
     "name": "stdout",
     "output_type": "stream",
     "text": [
      "[1, 2, 6, 3, 4, 5]\n"
     ]
    }
   ],
   "source": [
    "def my_insert(List2, A, insert):\n",
    "    inserted = List2[:insert] + [A] + List2[insert:]\n",
    "    return inserted\n",
    "\n",
    "print(my_insert([1,2,3,4,5], 6, 2))"
   ],
   "metadata": {
    "collapsed": false,
    "ExecuteTime": {
     "end_time": "2024-09-03T15:13:21.233403900Z",
     "start_time": "2024-09-03T15:13:21.227502Z"
    }
   }
  },
  {
   "cell_type": "code",
   "execution_count": 148,
   "outputs": [
    {
     "name": "stdout",
     "output_type": "stream",
     "text": [
      "[1, 2, 4, 5]\n"
     ]
    }
   ],
   "source": [
    "def my_pop(List3, delete):\n",
    "    popped = List3[:delete] + List3[delete+1:]\n",
    "    return popped\n",
    "\n",
    "print(my_pop([1,2,3,4,5], 2))"
   ],
   "metadata": {
    "collapsed": false,
    "ExecuteTime": {
     "end_time": "2024-09-03T15:14:13.487624100Z",
     "start_time": "2024-09-03T15:14:13.471990900Z"
    }
   }
  },
  {
   "cell_type": "code",
   "execution_count": null,
   "outputs": [],
   "source": [],
   "metadata": {
    "collapsed": false
   }
  }
 ],
 "metadata": {
  "kernelspec": {
   "display_name": "Python 3",
   "language": "python",
   "name": "python3"
  },
  "language_info": {
   "codemirror_mode": {
    "name": "ipython",
    "version": 2
   },
   "file_extension": ".py",
   "mimetype": "text/x-python",
   "name": "python",
   "nbconvert_exporter": "python",
   "pygments_lexer": "ipython2",
   "version": "2.7.6"
  }
 },
 "nbformat": 4,
 "nbformat_minor": 0
}
