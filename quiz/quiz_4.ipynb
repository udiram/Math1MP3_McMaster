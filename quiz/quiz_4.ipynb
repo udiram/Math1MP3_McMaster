{
 "cells": [
  {
   "cell_type": "markdown",
   "source": [
    "Question 1"
   ],
   "metadata": {
    "collapsed": false
   }
  },
  {
   "cell_type": "code",
   "execution_count": 1,
   "outputs": [],
   "source": [
    "import numpy as np\n",
    "\n",
    "def f(x):\n",
    "    return np.sin(x) * np.log(x)\n"
   ],
   "metadata": {
    "collapsed": false,
    "ExecuteTime": {
     "end_time": "2024-10-11T14:51:56.065938900Z",
     "start_time": "2024-10-11T14:51:55.438769900Z"
    }
   }
  },
  {
   "cell_type": "code",
   "execution_count": 2,
   "outputs": [],
   "source": [
    "def fp(x):\n",
    "    return np.cos(x) * np.log(x) + np.sin(x) / x"
   ],
   "metadata": {
    "collapsed": false,
    "ExecuteTime": {
     "end_time": "2024-10-11T14:51:58.156547200Z",
     "start_time": "2024-10-11T14:51:58.144043400Z"
    }
   }
  },
  {
   "cell_type": "code",
   "execution_count": 3,
   "outputs": [],
   "source": [
    "def fp_approx(f, a, h):\n",
    "    return (f(a + h) - f(a)) / h"
   ],
   "metadata": {
    "collapsed": false,
    "ExecuteTime": {
     "end_time": "2024-10-11T14:52:02.129683100Z",
     "start_time": "2024-10-11T14:52:02.121662700Z"
    }
   }
  },
  {
   "cell_type": "code",
   "execution_count": 4,
   "outputs": [
    {
     "name": "stdout",
     "output_type": "stream",
     "text": [
      "The magnitude of the difference is: 0.6162\n"
     ]
    }
   ],
   "source": [
    "a = 8\n",
    "h = 0.6\n",
    "\n",
    "# Exact value of the derivative at a\n",
    "exact_value = fp(a)\n",
    "\n",
    "# Approximate value of the derivative at a using difference quotient\n",
    "approx_value = fp_approx(f, a, h)\n",
    "\n",
    "# Magnitude of the difference\n",
    "magnitude_difference = abs(exact_value - approx_value)\n",
    "\n",
    "# Print the result rounded to 4 decimal places\n",
    "print(f\"The magnitude of the difference is: {magnitude_difference:.4f}\")"
   ],
   "metadata": {
    "collapsed": false,
    "ExecuteTime": {
     "end_time": "2024-10-11T14:52:10.656595600Z",
     "start_time": "2024-10-11T14:52:10.656595600Z"
    }
   }
  },
  {
   "cell_type": "markdown",
   "source": [
    "Question 2"
   ],
   "metadata": {
    "collapsed": false
   }
  },
  {
   "cell_type": "code",
   "execution_count": 18,
   "outputs": [],
   "source": [
    "def divisors(n):\n",
    "    D = []\n",
    "    for i in range(1, n+1):\n",
    "        if n % i == 0:\n",
    "            D.append(i)\n",
    "    return D\n",
    "\n",
    "def primes(N):\n",
    "    P = []\n",
    "    for i in range(1, N+1):\n",
    "        if len(divisors(i))==2:  # Missing line added here\n",
    "            P.append(i)\n",
    "    return P"
   ],
   "metadata": {
    "collapsed": false,
    "ExecuteTime": {
     "end_time": "2024-10-11T14:59:48.251507100Z",
     "start_time": "2024-10-11T14:59:48.248501800Z"
    }
   }
  },
  {
   "cell_type": "code",
   "execution_count": 19,
   "outputs": [
    {
     "data": {
      "text/plain": "[2,\n 3,\n 5,\n 7,\n 11,\n 13,\n 17,\n 19,\n 23,\n 29,\n 31,\n 37,\n 41,\n 43,\n 47,\n 53,\n 59,\n 61,\n 67,\n 71,\n 73,\n 79,\n 83,\n 89,\n 97,\n 101,\n 103,\n 107,\n 109,\n 113,\n 127,\n 131,\n 137,\n 139,\n 149,\n 151,\n 157,\n 163,\n 167,\n 173,\n 179,\n 181,\n 191,\n 193,\n 197,\n 199,\n 211,\n 223,\n 227,\n 229,\n 233,\n 239,\n 241,\n 251,\n 257,\n 263,\n 269,\n 271,\n 277,\n 281,\n 283,\n 293,\n 307,\n 311,\n 313,\n 317,\n 331,\n 337,\n 347,\n 349,\n 353,\n 359,\n 367,\n 373,\n 379,\n 383,\n 389,\n 397,\n 401,\n 409,\n 419,\n 421,\n 431,\n 433,\n 439,\n 443,\n 449,\n 457,\n 461,\n 463,\n 467,\n 479,\n 487,\n 491,\n 499]"
     },
     "execution_count": 19,
     "metadata": {},
     "output_type": "execute_result"
    }
   ],
   "source": [
    "N = 500\n",
    "primes(N)"
   ],
   "metadata": {
    "collapsed": false,
    "ExecuteTime": {
     "end_time": "2024-10-11T14:59:48.496801Z",
     "start_time": "2024-10-11T14:59:48.494762400Z"
    }
   }
  },
  {
   "cell_type": "code",
   "execution_count": 20,
   "outputs": [
    {
     "name": "stdout",
     "output_type": "stream",
     "text": [
      "[2, 3, 5, 7, 11, 13, 17, 19, 23, 29, 31, 37, 41, 43, 47, 53, 59, 61, 67, 71, 73, 79, 83, 89, 97, 101, 103, 107, 109, 113, 127, 131, 137, 139, 149, 151, 157, 163, 167, 173, 179, 181, 191, 193, 197, 199, 211, 223, 227, 229, 233, 239, 241, 251, 257, 263, 269, 271, 277, 281, 283, 293, 307, 311, 313, 317, 331, 337, 347, 349, 353, 359, 367, 373, 379, 383, 389, 397, 401, 409, 419, 421, 431, 433, 439, 443, 449, 457, 461, 463, 467, 479, 487, 491, 499]\n"
     ]
    }
   ],
   "source": [
    "from sympy import sieve\n",
    "primes=list(sieve.primerange(1,N+1))  ## list of all primes less than or equal to N\n",
    "print(primes)"
   ],
   "metadata": {
    "collapsed": false,
    "ExecuteTime": {
     "end_time": "2024-10-11T14:59:57.450278400Z",
     "start_time": "2024-10-11T14:59:57.428432900Z"
    }
   }
  },
  {
   "cell_type": "markdown",
   "source": [
    "Question 3"
   ],
   "metadata": {
    "collapsed": false
   }
  },
  {
   "cell_type": "code",
   "execution_count": 21,
   "outputs": [],
   "source": [
    "def lower_tri(M):\n",
    "    n = len(M)\n",
    "    for i in range(n):\n",
    "        for j in range(n):\n",
    "            if i < j:\n",
    "                M[i][j] = 0\n",
    "    return M"
   ],
   "metadata": {
    "collapsed": false,
    "ExecuteTime": {
     "end_time": "2024-10-11T15:05:49.137398200Z",
     "start_time": "2024-10-11T15:05:49.131374400Z"
    }
   }
  },
  {
   "cell_type": "code",
   "execution_count": 22,
   "outputs": [],
   "source": [
    "def diagonal_sum(M):\n",
    "    s = 0\n",
    "    n = len(M)\n",
    "    for i in range(n):\n",
    "        s += M[i][i]\n",
    "    return s"
   ],
   "metadata": {
    "collapsed": false,
    "ExecuteTime": {
     "end_time": "2024-10-11T15:05:53.507178800Z",
     "start_time": "2024-10-11T15:05:53.497068700Z"
    }
   }
  },
  {
   "cell_type": "code",
   "execution_count": 23,
   "outputs": [],
   "source": [
    "def off_diagonal_sum(M):\n",
    "    s = 0\n",
    "    n = len(M)\n",
    "    for i in range(n):\n",
    "        for j in range(n):\n",
    "            if i != j:\n",
    "                s += M[i][j]\n",
    "    return s"
   ],
   "metadata": {
    "collapsed": false,
    "ExecuteTime": {
     "end_time": "2024-10-11T15:05:58.323837400Z",
     "start_time": "2024-10-11T15:05:58.308200600Z"
    }
   }
  },
  {
   "cell_type": "markdown",
   "source": [
    "Question 4"
   ],
   "metadata": {
    "collapsed": false
   }
  },
  {
   "cell_type": "code",
   "execution_count": 24,
   "outputs": [
    {
     "name": "stdout",
     "output_type": "stream",
     "text": [
      "23\n",
      "12\n",
      "16\n"
     ]
    }
   ],
   "source": [
    "x=16\n",
    "def add_x(x):\n",
    "    print(x+19)\n",
    "    return(x+8)\n",
    "print(add_x(4))\n",
    "print(x)"
   ],
   "metadata": {
    "collapsed": false,
    "ExecuteTime": {
     "end_time": "2024-10-11T15:07:45.873265200Z",
     "start_time": "2024-10-11T15:07:45.873265200Z"
    }
   }
  },
  {
   "cell_type": "code",
   "execution_count": 25,
   "outputs": [
    {
     "name": "stdout",
     "output_type": "stream",
     "text": [
      "84\n",
      "70\n",
      "56\n",
      "42\n",
      "28\n"
     ]
    }
   ],
   "source": [
    "i=6\n",
    "j=14\n",
    "while i>1:\n",
    "    print(i*j)\n",
    "    i-=1"
   ],
   "metadata": {
    "collapsed": false,
    "ExecuteTime": {
     "end_time": "2024-10-11T15:08:02.311397200Z",
     "start_time": "2024-10-11T15:08:02.311397200Z"
    }
   }
  },
  {
   "cell_type": "markdown",
   "source": [
    "Question 5"
   ],
   "metadata": {
    "collapsed": false
   }
  },
  {
   "cell_type": "code",
   "execution_count": 26,
   "outputs": [],
   "source": [
    "def f(x):\n",
    "    y=7*x+8\n",
    "    return y\n",
    "\n",
    "def g(x):\n",
    "    y=x//2\n",
    "    return y\n",
    "\n",
    "def h(x):\n",
    "    y=x**0.5\n",
    "    return y"
   ],
   "metadata": {
    "collapsed": false,
    "ExecuteTime": {
     "end_time": "2024-10-11T15:08:54.133124300Z",
     "start_time": "2024-10-11T15:08:54.129616100Z"
    }
   }
  },
  {
   "cell_type": "code",
   "execution_count": 27,
   "outputs": [
    {
     "name": "stdout",
     "output_type": "stream",
     "text": [
      "512\n"
     ]
    }
   ],
   "source": [
    "def fgh(x):\n",
    "    f=x**2\n",
    "    g=abs(x)\n",
    "    h=x**3\n",
    "    return f,g,h\n",
    "\n",
    "print(fgh(8)[2])"
   ],
   "metadata": {
    "collapsed": false,
    "ExecuteTime": {
     "end_time": "2024-10-11T15:09:29.747233200Z",
     "start_time": "2024-10-11T15:09:29.733727400Z"
    }
   }
  },
  {
   "cell_type": "markdown",
   "source": [
    "Question 6"
   ],
   "metadata": {
    "collapsed": false
   }
  },
  {
   "cell_type": "code",
   "execution_count": 35,
   "outputs": [
    {
     "data": {
      "text/plain": "<Figure size 640x480 with 1 Axes>",
      "image/png": "[encoded data removed]"
     },
     "metadata": {},
     "output_type": "display_data"
    }
   ],
   "source": [
    "import numpy as np\n",
    "import matplotlib.pyplot as plt\n",
    "%matplotlib inline\n",
    "A = 7\n",
    "a=-np.pi /14\n",
    "b=np.pi /14\n",
    "x=np.linspace(a,b,200)\n",
    "y=np.sin(A*x)   # make sure you use your value of A here!\n",
    "\n",
    "plt.plot(x,y) # plot y,x to get inverse\n",
    "plt.grid()\n",
    "plt.show()"
   ],
   "metadata": {
    "collapsed": false,
    "ExecuteTime": {
     "end_time": "2024-10-11T15:17:49.267870600Z",
     "start_time": "2024-10-11T15:17:49.163867800Z"
    }
   }
  },
  {
   "cell_type": "markdown",
   "source": [
    "Question 7"
   ],
   "metadata": {
    "collapsed": false
   }
  },
  {
   "cell_type": "code",
   "execution_count": 3,
   "outputs": [
    {
     "ename": "NameError",
     "evalue": "name 'i' is not defined",
     "output_type": "error",
     "traceback": [
      "\u001B[1;31m---------------------------------------------------------------------------\u001B[0m",
      "\u001B[1;31mNameError\u001B[0m                                 Traceback (most recent call last)",
      "Cell \u001B[1;32mIn[3], line 2\u001B[0m\n\u001B[0;32m      1\u001B[0m \u001B[38;5;66;03m#(a)\u001B[39;00m\n\u001B[1;32m----> 2\u001B[0m L\u001B[38;5;241m=\u001B[39m[\u001B[43mi\u001B[49m \u001B[38;5;129;01min\u001B[39;00m \u001B[38;5;124m'\u001B[39m\u001B[38;5;124mMcMaster\u001B[39m\u001B[38;5;124m'\u001B[39m]\n\u001B[0;32m      3\u001B[0m \u001B[38;5;28mprint\u001B[39m(L)\n",
      "\u001B[1;31mNameError\u001B[0m: name 'i' is not defined"
     ]
    }
   ],
   "source": [
    "#(a)\n",
    "L=[i in 'McMaster']\n",
    "print(L)"
   ],
   "metadata": {
    "collapsed": false,
    "ExecuteTime": {
     "end_time": "2024-10-22T17:37:09.128992200Z",
     "start_time": "2024-10-22T17:37:09.121123Z"
    }
   }
  },
  {
   "cell_type": "code",
   "execution_count": 4,
   "outputs": [
    {
     "name": "stdout",
     "output_type": "stream",
     "text": [
      "['M', 'c', 'M', 'a', 's', 't', 'e', 'r']\n"
     ]
    }
   ],
   "source": [
    "\n",
    "#(b)\n",
    "L=[i for i in 'McMaster']\n",
    "print(L)"
   ],
   "metadata": {
    "collapsed": false,
    "ExecuteTime": {
     "end_time": "2024-10-22T17:37:09.301900Z",
     "start_time": "2024-10-22T17:37:09.301381500Z"
    }
   }
  },
  {
   "cell_type": "code",
   "execution_count": 5,
   "outputs": [
    {
     "name": "stdout",
     "output_type": "stream",
     "text": [
      "['M', 'C', 'M', 'A', 'S', 'T', 'E', 'R']\n"
     ]
    }
   ],
   "source": [
    "\n",
    "#(c)\n",
    "L=[i.upper() for i in 'McMaster']\n",
    "print(L)"
   ],
   "metadata": {
    "collapsed": false,
    "ExecuteTime": {
     "end_time": "2024-10-22T17:37:09.484020700Z",
     "start_time": "2024-10-22T17:37:09.484020700Z"
    }
   }
  },
  {
   "cell_type": "code",
   "execution_count": 6,
   "outputs": [
    {
     "name": "stdout",
     "output_type": "stream",
     "text": [
      "['M', 'c', 'M', 'A', 's', 't', 'E', 'r']\n"
     ]
    }
   ],
   "source": [
    "\n",
    "#(d)\n",
    "L=[i.upper() if i in list('aeiou') else i for i in 'McMaster']\n",
    "print(L)"
   ],
   "metadata": {
    "collapsed": false,
    "ExecuteTime": {
     "end_time": "2024-10-22T17:37:09.683453500Z",
     "start_time": "2024-10-22T17:37:09.682947800Z"
    }
   }
  },
  {
   "cell_type": "code",
   "execution_count": 7,
   "outputs": [
    {
     "name": "stdout",
     "output_type": "stream",
     "text": [
      "['A', 'E']\n"
     ]
    }
   ],
   "source": [
    "\n",
    "#(e)\n",
    "L=[i.upper() for i in 'McMaster' if i in list('aeiou')]\n",
    "print(L)"
   ],
   "metadata": {
    "collapsed": false,
    "ExecuteTime": {
     "end_time": "2024-10-22T17:37:09.836749600Z",
     "start_time": "2024-10-22T17:37:09.836245Z"
    }
   }
  },
  {
   "cell_type": "code",
   "execution_count": 8,
   "outputs": [
    {
     "ename": "SyntaxError",
     "evalue": "expected 'else' after 'if' expression (2717827922.py, line 2)",
     "output_type": "error",
     "traceback": [
      "\u001B[1;36m  Cell \u001B[1;32mIn[8], line 2\u001B[1;36m\u001B[0m\n\u001B[1;33m    L=[i.upper() for i not in 'McMaster' if i in list('aeiou')]\u001B[0m\n\u001B[1;37m                     ^\u001B[0m\n\u001B[1;31mSyntaxError\u001B[0m\u001B[1;31m:\u001B[0m expected 'else' after 'if' expression\n"
     ]
    }
   ],
   "source": [
    "\n",
    "#(f)\n",
    "L=[i.upper() for i not in 'McMaster' if i in list('aeiou')]\n",
    "print(L)"
   ],
   "metadata": {
    "collapsed": false,
    "ExecuteTime": {
     "end_time": "2024-10-22T17:37:10.303413700Z",
     "start_time": "2024-10-22T17:37:10.260155600Z"
    }
   }
  }
 ],
 "metadata": {
  "kernelspec": {
   "display_name": "Python 3",
   "language": "python",
   "name": "python3"
  },
  "language_info": {
   "codemirror_mode": {
    "name": "ipython",
    "version": 2
   },
   "file_extension": ".py",
   "mimetype": "text/x-python",
   "name": "python",
   "nbconvert_exporter": "python",
   "pygments_lexer": "ipython2",
   "version": "2.7.6"
  }
 },
 "nbformat": 4,
 "nbformat_minor": 0
}
