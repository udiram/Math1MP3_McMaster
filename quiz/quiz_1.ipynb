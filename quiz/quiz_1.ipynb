{
 "cells": [
  {
   "cell_type": "raw",
   "source": [
    "Question 1a"
   ],
   "metadata": {
    "collapsed": false
   }
  },
  {
   "cell_type": "code",
   "execution_count": 2,
   "outputs": [
    {
     "name": "stdout",
     "output_type": "stream",
     "text": [
      "What day were you asked to enter?\n"
     ]
    }
   ],
   "source": [
    "print(\"What day were you asked to enter?\")\n",
    "day=input()"
   ],
   "metadata": {
    "collapsed": false,
    "ExecuteTime": {
     "end_time": "2024-09-03T18:44:59.058469200Z",
     "start_time": "2024-09-03T18:44:57.281822400Z"
    }
   }
  },
  {
   "cell_type": "code",
   "execution_count": 3,
   "outputs": [
    {
     "name": "stdout",
     "output_type": "stream",
     "text": [
      "6\n"
     ]
    }
   ],
   "source": [
    "print(len(day))"
   ],
   "metadata": {
    "collapsed": false,
    "ExecuteTime": {
     "end_time": "2024-09-03T18:45:26.627676600Z",
     "start_time": "2024-09-03T18:45:26.627676600Z"
    }
   }
  },
  {
   "cell_type": "code",
   "execution_count": 4,
   "outputs": [
    {
     "name": "stdout",
     "output_type": "stream",
     "text": [
      "<class 'str'>\n"
     ]
    }
   ],
   "source": [
    "print(type(day))"
   ],
   "metadata": {
    "collapsed": false,
    "ExecuteTime": {
     "end_time": "2024-09-03T18:45:31.220879700Z",
     "start_time": "2024-09-03T18:45:31.220879700Z"
    }
   }
  },
  {
   "cell_type": "code",
   "execution_count": 5,
   "outputs": [
    {
     "name": "stdout",
     "output_type": "stream",
     "text": [
      "<class 'bool'>\n"
     ]
    }
   ],
   "source": [
    "print(type('y' in day))"
   ],
   "metadata": {
    "collapsed": false,
    "ExecuteTime": {
     "end_time": "2024-09-03T18:45:34.629805Z",
     "start_time": "2024-09-03T18:45:34.629805Z"
    }
   }
  },
  {
   "cell_type": "code",
   "execution_count": 6,
   "outputs": [
    {
     "name": "stdout",
     "output_type": "stream",
     "text": [
      "Monday\n"
     ]
    }
   ],
   "source": [
    "print(day)"
   ],
   "metadata": {
    "collapsed": false,
    "ExecuteTime": {
     "end_time": "2024-09-03T18:45:37.623916300Z",
     "start_time": "2024-09-03T18:45:37.623916300Z"
    }
   }
  },
  {
   "cell_type": "code",
   "execution_count": 7,
   "outputs": [
    {
     "name": "stdout",
     "output_type": "stream",
     "text": [
      "<class 'int'>\n"
     ]
    }
   ],
   "source": [
    "print(type(len(day)))"
   ],
   "metadata": {
    "collapsed": false,
    "ExecuteTime": {
     "end_time": "2024-09-03T18:45:41.186706400Z",
     "start_time": "2024-09-03T18:45:41.181694200Z"
    }
   }
  },
  {
   "cell_type": "code",
   "execution_count": 8,
   "outputs": [
    {
     "name": "stdout",
     "output_type": "stream",
     "text": [
      "True\n"
     ]
    }
   ],
   "source": [
    "print('d' in day)"
   ],
   "metadata": {
    "collapsed": false,
    "ExecuteTime": {
     "end_time": "2024-09-03T18:45:45.076645500Z",
     "start_time": "2024-09-03T18:45:45.076645500Z"
    }
   }
  },
  {
   "cell_type": "code",
   "execution_count": 9,
   "outputs": [
    {
     "name": "stdout",
     "output_type": "stream",
     "text": [
      "False\n"
     ]
    }
   ],
   "source": [
    "print('Y' in day)"
   ],
   "metadata": {
    "collapsed": false,
    "ExecuteTime": {
     "end_time": "2024-09-03T18:45:49.676556800Z",
     "start_time": "2024-09-03T18:45:49.669050100Z"
    }
   }
  },
  {
   "cell_type": "code",
   "execution_count": 10,
   "outputs": [
    {
     "name": "stdout",
     "output_type": "stream",
     "text": [
      "day\n"
     ]
    }
   ],
   "source": [
    "print('day')"
   ],
   "metadata": {
    "collapsed": false,
    "ExecuteTime": {
     "end_time": "2024-09-03T18:45:53.746890600Z",
     "start_time": "2024-09-03T18:45:53.746890600Z"
    }
   }
  },
  {
   "cell_type": "markdown",
   "source": [
    "Question 1b"
   ],
   "metadata": {
    "collapsed": false
   }
  },
  {
   "cell_type": "code",
   "execution_count": 11,
   "outputs": [],
   "source": [
    "a=32\n",
    "b=33\n",
    "c=64"
   ],
   "metadata": {
    "collapsed": false,
    "ExecuteTime": {
     "end_time": "2024-09-03T18:47:49.133550900Z",
     "start_time": "2024-09-03T18:47:49.128045Z"
    }
   }
  },
  {
   "cell_type": "code",
   "execution_count": 12,
   "outputs": [
    {
     "name": "stdout",
     "output_type": "stream",
     "text": [
      "<class 'int'>\n"
     ]
    }
   ],
   "source": [
    "print(type(c//a))"
   ],
   "metadata": {
    "collapsed": false,
    "ExecuteTime": {
     "end_time": "2024-09-03T18:47:53.107199100Z",
     "start_time": "2024-09-03T18:47:53.107199100Z"
    }
   }
  },
  {
   "cell_type": "code",
   "execution_count": 15,
   "outputs": [
    {
     "name": "stdout",
     "output_type": "stream",
     "text": [
      "2.0\n"
     ]
    }
   ],
   "source": [
    "print(c/a)"
   ],
   "metadata": {
    "collapsed": false,
    "ExecuteTime": {
     "end_time": "2024-09-03T18:48:02.507801400Z",
     "start_time": "2024-09-03T18:48:02.501328500Z"
    }
   }
  },
  {
   "cell_type": "code",
   "execution_count": 16,
   "outputs": [
    {
     "name": "stdout",
     "output_type": "stream",
     "text": [
      "<class 'float'>\n"
     ]
    }
   ],
   "source": [
    "print(type(c/a))"
   ],
   "metadata": {
    "collapsed": false,
    "ExecuteTime": {
     "end_time": "2024-09-03T18:48:03.080433700Z",
     "start_time": "2024-09-03T18:48:03.063766100Z"
    }
   }
  },
  {
   "cell_type": "code",
   "execution_count": 17,
   "outputs": [
    {
     "name": "stdout",
     "output_type": "stream",
     "text": [
      "31\n"
     ]
    }
   ],
   "source": [
    "print(c%b)"
   ],
   "metadata": {
    "collapsed": false,
    "ExecuteTime": {
     "end_time": "2024-09-03T18:48:06.823709100Z",
     "start_time": "2024-09-03T18:48:06.803539600Z"
    }
   }
  },
  {
   "cell_type": "code",
   "execution_count": 18,
   "outputs": [
    {
     "ename": "TypeError",
     "evalue": "'in <string>' requires string as left operand, not int",
     "output_type": "error",
     "traceback": [
      "\u001B[1;31m---------------------------------------------------------------------------\u001B[0m",
      "\u001B[1;31mTypeError\u001B[0m                                 Traceback (most recent call last)",
      "Cell \u001B[1;32mIn[18], line 1\u001B[0m\n\u001B[1;32m----> 1\u001B[0m \u001B[38;5;28mprint\u001B[39m(\u001B[38;5;241;43m3\u001B[39;49m\u001B[43m \u001B[49m\u001B[38;5;129;43;01min\u001B[39;49;00m\u001B[43m \u001B[49m\u001B[38;5;124;43m'\u001B[39;49m\u001B[38;5;124;43m2023\u001B[39;49m\u001B[38;5;124;43m'\u001B[39;49m)\n",
      "\u001B[1;31mTypeError\u001B[0m: 'in <string>' requires string as left operand, not int"
     ]
    }
   ],
   "source": [
    "print(3 in '2023')"
   ],
   "metadata": {
    "collapsed": false,
    "ExecuteTime": {
     "end_time": "2024-09-03T18:48:10.997692100Z",
     "start_time": "2024-09-03T18:48:10.853050600Z"
    }
   }
  },
  {
   "cell_type": "code",
   "execution_count": 19,
   "outputs": [
    {
     "name": "stdout",
     "output_type": "stream",
     "text": [
      "True\n"
     ]
    }
   ],
   "source": [
    "print(2*a<=c)"
   ],
   "metadata": {
    "collapsed": false,
    "ExecuteTime": {
     "end_time": "2024-09-03T18:48:18.244748800Z",
     "start_time": "2024-09-03T18:48:18.244748800Z"
    }
   }
  },
  {
   "cell_type": "code",
   "execution_count": 20,
   "outputs": [
    {
     "name": "stdout",
     "output_type": "stream",
     "text": [
      "False\n"
     ]
    }
   ],
   "source": [
    "print(c==a+b)"
   ],
   "metadata": {
    "collapsed": false,
    "ExecuteTime": {
     "end_time": "2024-09-03T18:48:21.922971Z",
     "start_time": "2024-09-03T18:48:21.915921700Z"
    }
   }
  },
  {
   "cell_type": "code",
   "execution_count": 21,
   "outputs": [
    {
     "name": "stdout",
     "output_type": "stream",
     "text": [
      "2\n"
     ]
    }
   ],
   "source": [
    "print(c//a)"
   ],
   "metadata": {
    "collapsed": false,
    "ExecuteTime": {
     "end_time": "2024-09-03T18:48:25.882750100Z",
     "start_time": "2024-09-03T18:48:25.878019900Z"
    }
   }
  },
  {
   "cell_type": "code",
   "execution_count": null,
   "outputs": [],
   "source": [
    "print('3' in '2023')"
   ],
   "metadata": {
    "collapsed": false
   }
  },
  {
   "cell_type": "markdown",
   "source": [
    "Question 2a"
   ],
   "metadata": {
    "collapsed": false
   }
  },
  {
   "cell_type": "code",
   "execution_count": 24,
   "outputs": [],
   "source": [
    "A=3972\n",
    "y0=270\n",
    "k=0.7"
   ],
   "metadata": {
    "collapsed": false,
    "ExecuteTime": {
     "end_time": "2024-09-03T18:52:34.967997500Z",
     "start_time": "2024-09-03T18:52:34.952283900Z"
    }
   }
  },
  {
   "cell_type": "code",
   "execution_count": 27,
   "outputs": [
    {
     "name": "stdout",
     "output_type": "stream",
     "text": [
      "5.025125628140703\n",
      "2823.386432555489\n"
     ]
    }
   ],
   "source": [
    "import numpy as np\n",
    "\n",
    "x=np.linspace(0,100,200)\n",
    "\n",
    "def y_function(t, A, y0, k):\n",
    "    return A / (1 + ((A - y0) / y0) * np.exp(-k * t))\n",
    "\n",
    "y = y_function(x, A, y0, k)\n",
    "print(x[10])\n",
    "print(y[10])\n"
   ],
   "metadata": {
    "collapsed": false,
    "ExecuteTime": {
     "end_time": "2024-09-03T18:53:43.824369300Z",
     "start_time": "2024-09-03T18:53:43.824369300Z"
    }
   }
  },
  {
   "cell_type": "markdown",
   "source": [
    "Question 3a"
   ],
   "metadata": {
    "collapsed": false
   }
  },
  {
   "cell_type": "code",
   "execution_count": 35,
   "outputs": [
    {
     "name": "stdout",
     "output_type": "stream",
     "text": [
      "(-3+9j)\n"
     ]
    }
   ],
   "source": [
    "z=-3+9*1j\n",
    "print(z) # correct"
   ],
   "metadata": {
    "collapsed": false,
    "ExecuteTime": {
     "end_time": "2024-09-03T18:57:52.430872300Z",
     "start_time": "2024-09-03T18:57:52.430363400Z"
    }
   }
  },
  {
   "cell_type": "code",
   "execution_count": 31,
   "outputs": [
    {
     "name": "stdout",
     "output_type": "stream",
     "text": [
      "(-3+9j)\n"
     ]
    }
   ],
   "source": [
    "z=1j*(9+3j)\n",
    "print(z) # correct"
   ],
   "metadata": {
    "collapsed": false,
    "ExecuteTime": {
     "end_time": "2024-09-03T18:57:02.884877700Z",
     "start_time": "2024-09-03T18:57:02.881155300Z"
    }
   }
  },
  {
   "cell_type": "code",
   "execution_count": 33,
   "outputs": [
    {
     "name": "stdout",
     "output_type": "stream",
     "text": [
      "(9-3j)\n"
     ]
    }
   ],
   "source": [
    "z=complex(9,-3)\n",
    "print(z) # incorrect"
   ],
   "metadata": {
    "collapsed": false,
    "ExecuteTime": {
     "end_time": "2024-09-03T18:57:13.983019400Z",
     "start_time": "2024-09-03T18:57:13.979624100Z"
    }
   }
  },
  {
   "cell_type": "code",
   "execution_count": 36,
   "outputs": [
    {
     "name": "stdout",
     "output_type": "stream",
     "text": [
      "(-3+9j)\n"
     ]
    }
   ],
   "source": [
    "z=9j-3\n",
    "print(z) # correct"
   ],
   "metadata": {
    "collapsed": false,
    "ExecuteTime": {
     "end_time": "2024-09-03T18:58:26.332430100Z",
     "start_time": "2024-09-03T18:58:26.332430100Z"
    }
   }
  },
  {
   "cell_type": "raw",
   "source": [
    "Question 3b"
   ],
   "metadata": {
    "collapsed": false
   }
  },
  {
   "cell_type": "code",
   "execution_count": 37,
   "outputs": [
    {
     "name": "stdout",
     "output_type": "stream",
     "text": [
      "(-3+9j)\n"
     ]
    }
   ],
   "source": [
    "z=complex(-3,9)\n",
    "print(z)"
   ],
   "metadata": {
    "collapsed": false,
    "ExecuteTime": {
     "end_time": "2024-09-03T18:59:33.302834200Z",
     "start_time": "2024-09-03T18:59:33.302834200Z"
    }
   }
  },
  {
   "cell_type": "code",
   "execution_count": 38,
   "outputs": [
    {
     "name": "stdout",
     "output_type": "stream",
     "text": [
      "(-3+9j)\n"
     ]
    }
   ],
   "source": [
    "z=1j*(9+3*1j)\n",
    "print(z)"
   ],
   "metadata": {
    "collapsed": false,
    "ExecuteTime": {
     "end_time": "2024-09-03T18:59:57.097254Z",
     "start_time": "2024-09-03T18:59:57.097254Z"
    }
   }
  },
  {
   "cell_type": "code",
   "execution_count": 40,
   "outputs": [
    {
     "name": "stdout",
     "output_type": "stream",
     "text": [
      "(-3+9j)\n"
     ]
    }
   ],
   "source": [
    "z=complex(0,1)*complex(9,3)\n",
    "print(z)"
   ],
   "metadata": {
    "collapsed": false,
    "ExecuteTime": {
     "end_time": "2024-09-03T19:00:07.082416200Z",
     "start_time": "2024-09-03T19:00:07.081909800Z"
    }
   }
  },
  {
   "cell_type": "code",
   "execution_count": 43,
   "outputs": [
    {
     "name": "stdout",
     "output_type": "stream",
     "text": [
      "(-3+9j)\n"
     ]
    }
   ],
   "source": [
    "z=1j*(9+3j)\n",
    "print(z)"
   ],
   "metadata": {
    "collapsed": false,
    "ExecuteTime": {
     "end_time": "2024-09-03T19:00:29.183954800Z",
     "start_time": "2024-09-03T19:00:29.177917100Z"
    }
   }
  },
  {
   "cell_type": "markdown",
   "source": [
    "Question 4"
   ],
   "metadata": {
    "collapsed": false
   }
  },
  {
   "cell_type": "code",
   "execution_count": 45,
   "outputs": [
    {
     "ename": "TypeError",
     "evalue": "'y' is an invalid keyword argument for print()",
     "output_type": "error",
     "traceback": [
      "\u001B[1;31m---------------------------------------------------------------------------\u001B[0m",
      "\u001B[1;31mTypeError\u001B[0m                                 Traceback (most recent call last)",
      "Cell \u001B[1;32mIn[45], line 3\u001B[0m\n\u001B[0;32m      1\u001B[0m x\u001B[38;5;241m=\u001B[39m\u001B[38;5;241m8\u001B[39m\n\u001B[0;32m      2\u001B[0m y\u001B[38;5;241m=\u001B[39m\u001B[38;5;241m7\u001B[39m\n\u001B[1;32m----> 3\u001B[0m \u001B[38;5;28;43mprint\u001B[39;49m\u001B[43m(\u001B[49m\u001B[43my\u001B[49m\u001B[38;5;241;43m=\u001B[39;49m\u001B[43mx\u001B[49m\u001B[38;5;241;43m*\u001B[39;49m\u001B[38;5;241;43m*\u001B[39;49m\u001B[38;5;241;43m2\u001B[39;49m\u001B[43m)\u001B[49m\n",
      "\u001B[1;31mTypeError\u001B[0m: 'y' is an invalid keyword argument for print()"
     ]
    }
   ],
   "source": [
    "x=8\n",
    "y=7\n",
    "print(y=x**2)"
   ],
   "metadata": {
    "collapsed": false,
    "ExecuteTime": {
     "end_time": "2024-09-03T19:04:18.331683Z",
     "start_time": "2024-09-03T19:04:18.313685Z"
    }
   }
  },
  {
   "cell_type": "markdown",
   "source": [
    "The error indicates that a print statement cannot contain a variable assignment\n",
    "(recall that a singular equal sign (=) indicates a variable assignment).\n",
    "\n",
    "To obtain an output of True or False (assuming that was the goal in this code block), you must ask Python a question using correct synax. In this case, use a double equal sign between the variables in the print statement."
   ],
   "metadata": {
    "collapsed": false
   }
  },
  {
   "cell_type": "markdown",
   "source": [
    "Question 5"
   ],
   "metadata": {
    "collapsed": false
   }
  },
  {
   "cell_type": "code",
   "execution_count": 46,
   "outputs": [
    {
     "ename": "SyntaxError",
     "evalue": "invalid decimal literal (3570674475.py, line 2)",
     "output_type": "error",
     "traceback": [
      "\u001B[1;36m  Cell \u001B[1;32mIn[46], line 2\u001B[1;36m\u001B[0m\n\u001B[1;33m    y=7x\u001B[0m\n\u001B[1;37m      ^\u001B[0m\n\u001B[1;31mSyntaxError\u001B[0m\u001B[1;31m:\u001B[0m invalid decimal literal\n"
     ]
    }
   ],
   "source": [
    "x=8\n",
    "y=7x\n",
    "print(y)"
   ],
   "metadata": {
    "collapsed": false,
    "ExecuteTime": {
     "end_time": "2024-09-03T19:05:17.011504700Z",
     "start_time": "2024-09-03T19:05:16.999470300Z"
    }
   }
  },
  {
   "cell_type": "markdown",
   "source": [
    " The error indicates there is an asterisk (*) missing, which is required to denote multiplication.\n",
    "\n",
    "Proofread your work carefully! Pay special attention to lines of code where you have complicated formulas or have used multiple brackets and make necessary corrections. (Tip: Do not wait until you have typed out your entire program before executing your code for the first time! Test your code frequently after you have made minor edits so you can identify small errors before they become hidden in your program!)"
   ],
   "metadata": {
    "collapsed": false
   }
  },
  {
   "cell_type": "markdown",
   "source": [
    "Question 6"
   ],
   "metadata": {
    "collapsed": false
   }
  },
  {
   "cell_type": "code",
   "execution_count": 47,
   "outputs": [
    {
     "name": "stdout",
     "output_type": "stream",
     "text": [
      "0.7853981633974483\n"
     ]
    }
   ],
   "source": [
    "x=1\n",
    "y=np.arctan(x)\n",
    "print(y)"
   ],
   "metadata": {
    "collapsed": false,
    "ExecuteTime": {
     "end_time": "2024-09-03T19:07:31.262735900Z",
     "start_time": "2024-09-03T19:07:31.257296300Z"
    }
   }
  },
  {
   "cell_type": "markdown",
   "source": [
    " The error indicates that you have tried to call a package or module before you have imported it.\n",
    "\n",
    "Include a line of code importing the package or module you want to use before the line of code which calls it. (Tip: You may wish to import all packages in a single cell near the beginning of your file, and then run this cell first whenever you open the file.)"
   ],
   "metadata": {
    "collapsed": false
   }
  },
  {
   "cell_type": "markdown",
   "source": [
    "Question 7"
   ],
   "metadata": {
    "collapsed": false
   }
  },
  {
   "cell_type": "code",
   "execution_count": 48,
   "outputs": [
    {
     "ename": "SyntaxError",
     "evalue": "incomplete input (606951184.py, line 2)",
     "output_type": "error",
     "traceback": [
      "\u001B[1;36m  Cell \u001B[1;32mIn[48], line 2\u001B[1;36m\u001B[0m\n\u001B[1;33m    y=(7*(4-x)**(-1)\u001B[0m\n\u001B[1;37m                    ^\u001B[0m\n\u001B[1;31mSyntaxError\u001B[0m\u001B[1;31m:\u001B[0m incomplete input\n"
     ]
    }
   ],
   "source": [
    "x=8\n",
    "y=(7*(4-x)**(-1)"
   ],
   "metadata": {
    "collapsed": false,
    "ExecuteTime": {
     "end_time": "2024-09-03T19:08:31.930356200Z",
     "start_time": "2024-09-03T19:08:31.872610800Z"
    }
   }
  },
  {
   "cell_type": "markdown",
   "source": [
    "The error indicates that Python has found an unfinished statement or block of code.\n",
    "In math, this error often means you have missed a bracket.\n",
    "\n",
    " Proofread your work carefully! Pay special attention to lines of code where you have complicated formulas or have used multiple brackets and make necessary corrections. (Tip: Do not wait until you have typed out your entire program before executing your code for the first time! Test your code frequently after you have made minor edits so you can identify small errors before they become hidden in your program!)"
   ],
   "metadata": {
    "collapsed": false
   }
  },
  {
   "cell_type": "code",
   "execution_count": null,
   "outputs": [],
   "source": [],
   "metadata": {
    "collapsed": false
   }
  }
 ],
 "metadata": {
  "kernelspec": {
   "display_name": "Python 3",
   "language": "python",
   "name": "python3"
  },
  "language_info": {
   "codemirror_mode": {
    "name": "ipython",
    "version": 2
   },
   "file_extension": ".py",
   "mimetype": "text/x-python",
   "name": "python",
   "nbconvert_exporter": "python",
   "pygments_lexer": "ipython2",
   "version": "2.7.6"
  }
 },
 "nbformat": 4,
 "nbformat_minor": 0
}
