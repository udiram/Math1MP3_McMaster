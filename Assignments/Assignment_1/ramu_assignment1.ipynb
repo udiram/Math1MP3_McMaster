{
 "cells": [
  {
   "cell_type": "markdown",
   "metadata": {},
   "source": [
    "<font color='navy'><h3> <u> Math 1MP3 - Assignment 1</u> </h3></font>"
   ]
  },
  {
   "cell_type": "code",
   "execution_count": 22,
   "metadata": {
    "ExecuteTime": {
     "end_time": "2024-09-27T03:19:39.925798600Z",
     "start_time": "2024-09-27T03:19:39.913629Z"
    }
   },
   "outputs": [
    {
     "name": "stdout",
     "output_type": "stream",
     "text": [
      "True\n",
      "False\n",
      "False\n"
     ]
    }
   ],
   "source": [
    "# Question 1\n",
    "\n",
    "def is_symmetric(M):\n",
    "    \"\"\" A 3 by 3 matrix M is given as a list with three elements, \n",
    "        each of which is one row in M. \n",
    "        Return True if M is symmetric, and False otherwise. \"\"\"\n",
    "\n",
    "    for i in range(3):\n",
    "        for j in range(i + 1, 3):\n",
    "            if M[i][j] != M[j][i]:\n",
    "                return False\n",
    "    return True\n",
    "\n",
    "\n",
    "# test cases to try out\n",
    "print(is_symmetric([[1,2,3],[2,5,8],[3,8,7]])) # should print True\n",
    "print(is_symmetric([[1,2,3],[2,5,8],[7,8,3]])) # should print False\n",
    "print(is_symmetric([[1,0,0],[0,5,0],[1,0,9]])) # should print False"
   ]
  },
  {
   "cell_type": "code",
   "execution_count": 4,
   "metadata": {
    "ExecuteTime": {
     "end_time": "2024-09-25T23:26:03.147602300Z",
     "start_time": "2024-09-25T23:26:03.137591Z"
    }
   },
   "outputs": [
    {
     "name": "stdout",
     "output_type": "stream",
     "text": [
      "Baby boomer\n",
      "Generation Z\n",
      "Alpha generation\n",
      "Generation X\n"
     ]
    }
   ],
   "source": [
    "# Question 2\n",
    "\n",
    "def generation(birth_year):\n",
    "    \"\"\" The person born between 1945 and 1964 is called Baby boomer.\n",
    "        Those born between 1965 and 1981 are called Generation X.\n",
    "        The person born between 1982 and 1996 are known as Millennial.\n",
    "        The people born between 1997 and 2010 are called Generation Z.\n",
    "        Those born in 2011 or later have been named Alpha generation.\n",
    "        Given a person's birth_year between 1945 and 2021, \n",
    "        return the name of their generation. \"\"\"\n",
    "    \n",
    "    if 1945 <= birth_year <= 1964:\n",
    "        return 'Baby boomer'\n",
    "    elif 1964 <= birth_year <= 1981:\n",
    "        return 'Generation X'\n",
    "    elif 1981 <= birth_year <= 1996:\n",
    "        return 'Millennial'\n",
    "    elif 1996 <= birth_year <= 2010:\n",
    "        return 'Generation Z'\n",
    "    elif 2010 <= birth_year <= 2021:\n",
    "        return 'Alpha generation'\n",
    "    else:\n",
    "        return 'Invalid birth year'\n",
    "\n",
    "# test cases to try out\n",
    "print(generation(1945)) # should print Baby boomer\n",
    "print(generation(1997)) # should print Generation Z\n",
    "print(generation(2020)) # should print Alpha generation\n",
    "print(generation(1979)) # should print Generation X"
   ]
  },
  {
   "cell_type": "code",
   "execution_count": 23,
   "metadata": {
    "ExecuteTime": {
     "end_time": "2024-09-27T03:19:50.774913200Z",
     "start_time": "2024-09-27T03:19:50.767651300Z"
    }
   },
   "outputs": [
    {
     "name": "stdout",
     "output_type": "stream",
     "text": [
      "35\n",
      "1153\n",
      "215\n"
     ]
    }
   ],
   "source": [
    "# Question 3a\n",
    "\n",
    "def interesting_sum(N,p,q):\n",
    "    \"\"\" Given three positive integers N, p, and q, return the sum of all integers \n",
    "        from 1 to N (including 1 and N) which are divisible by either p or q. \n",
    "        Note: 'either or' is inclusive 'or' \"\"\"\n",
    "    list_of_ints = []\n",
    "    for i in range(1,N+1):\n",
    "        if i%p==0 or i%q==0:\n",
    "            list_of_ints.append(i)\n",
    "    return sum(list_of_ints)\n",
    "\n",
    "    # insert your code here\n",
    "    \n",
    "    \n",
    "# test cases to try out\n",
    "print(interesting_sum(10,2,5)) # should print 35\n",
    "print(interesting_sum(100,7,11)) # should print 1153\n",
    "print(interesting_sum(100,26,59)) # should print 215"
   ]
  },
  {
   "cell_type": "code",
   "execution_count": 24,
   "metadata": {
    "ExecuteTime": {
     "end_time": "2024-09-27T03:19:52.345216800Z",
     "start_time": "2024-09-27T03:19:52.342203800Z"
    }
   },
   "outputs": [
    {
     "name": "stdout",
     "output_type": "stream",
     "text": [
      "[1, 7]\n",
      "[1, 2, 4, 8]\n"
     ]
    }
   ],
   "source": [
    "# Question 3b\n",
    "\n",
    "def divisors(N):\n",
    "    \"\"\" Return a list of all divisors for a positive integer N>1. \"\"\"\n",
    "    list_of_divisors = []\n",
    "    for i in range(1,N+1):\n",
    "        if N%i==0:\n",
    "            list_of_divisors.append(i)\n",
    "    return list_of_divisors\n",
    "    \n",
    "    \n",
    "# test cases to try out\n",
    "print(divisors(7)) # should print [1,7]\n",
    "print(divisors(8)) # should print [1,2,4,8]"
   ]
  },
  {
   "cell_type": "code",
   "execution_count": 25,
   "metadata": {
    "ExecuteTime": {
     "end_time": "2024-09-27T03:19:53.078626900Z",
     "start_time": "2024-09-27T03:19:53.061482500Z"
    }
   },
   "outputs": [
    {
     "name": "stdout",
     "output_type": "stream",
     "text": [
      "7 is prime\n",
      "8 is composite\n"
     ]
    }
   ],
   "source": [
    "# Question 3c\n",
    "\n",
    "def prime_composite(N):\n",
    "    \"\"\" Given a positive integer N>1, return a statement indicating \n",
    "    whether it is prime or composite. \"\"\"\n",
    "    \n",
    "    for i in range(2,N):\n",
    "        if N%i==0:\n",
    "            return f'{N} is composite'\n",
    "    return f'{N} is prime'\n",
    "    \n",
    "    \n",
    "# test cases to try out\n",
    "print(prime_composite(7)) # should print: 7 is prime\n",
    "print(prime_composite(8)) # should print: 8 is composite"
   ]
  },
  {
   "cell_type": "code",
   "execution_count": 26,
   "metadata": {
    "ExecuteTime": {
     "end_time": "2024-09-27T03:19:55.023962600Z",
     "start_time": "2024-09-27T03:19:55.014342400Z"
    }
   },
   "outputs": [
    {
     "name": "stdout",
     "output_type": "stream",
     "text": [
      "1\n",
      "0\n",
      "3\n"
     ]
    }
   ],
   "source": [
    "# Question 4\n",
    "\n",
    "def count_math(s):\n",
    "    \"\"\" Return the number of times the string 'math' appears in the given string s. \n",
    "        Do NOT use Python's count command. Write your own code.\"\"\"\n",
    "    num_math = 0\n",
    "    for i in range(len(s)):\n",
    "        four_string = s[i:i+4]\n",
    "        if four_string == 'math':\n",
    "            num_math += 1\n",
    "\n",
    "    return num_math\n",
    "# test cases to try out\n",
    "print(count_math('mmatmmatthhamath')) # should print 1\n",
    "print(count_math('23matthathmaath')) # should print 0\n",
    "print(count_math('mathxmathmmathhh')) # should print 3"
   ]
  },
  {
   "cell_type": "code",
   "execution_count": 27,
   "metadata": {
    "ExecuteTime": {
     "end_time": "2024-09-27T03:19:57.762153300Z",
     "start_time": "2024-09-27T03:19:57.761643300Z"
    }
   },
   "outputs": [
    {
     "name": "stdout",
     "output_type": "stream",
     "text": [
      "5560\n",
      "60\n",
      "670\n",
      "110\n"
     ]
    }
   ],
   "source": [
    "# Question 5\n",
    "\n",
    "def round10(num):\n",
    "    \"\"\" For a given positive integer num, round it to the nearest multiple of 10.\n",
    "        Do NOT use Python's round command. Write your own code.\"\"\"\n",
    "    rem = num%10\n",
    "    if rem >= 5:\n",
    "        rounded = num + (10 - rem)\n",
    "    else:\n",
    "        rounded = num - rem\n",
    "\n",
    "    return rounded\n",
    "     \n",
    "# test cases to try out\n",
    "print(round10(5555)) # should print 5560\n",
    "print(round10(60)) # should print 60\n",
    "print(round10(668)) # should print 670\n",
    "print(round10(114)) # should print 110"
   ]
  },
  {
   "cell_type": "code",
   "execution_count": 31,
   "metadata": {
    "ExecuteTime": {
     "end_time": "2024-09-27T03:21:51.588927200Z",
     "start_time": "2024-09-27T03:21:51.588927200Z"
    }
   },
   "outputs": [
    {
     "name": "stdout",
     "output_type": "stream",
     "text": [
      "4.0\n",
      "3.189184782277596\n",
      "3.1425916543395442\n"
     ]
    }
   ],
   "source": [
    "# Question 6a\n",
    "\n",
    "def Leibniz_sum(n):\n",
    "    \"\"\" Write the code for the function, and check using test cases below\n",
    "        to make sure that it's correct. You will use this function to \n",
    "        answer the remaining part of Question 6 in the next cell.\"\"\"\n",
    "    \n",
    "    sum = 0\n",
    "    for i in range(n + 1):  # Include the nth term\n",
    "        sum += (-1)**i / (2 * i + 1)\n",
    "\n",
    "    return 4 * sum\n",
    "\n",
    "    \n",
    "# test cases to try out\n",
    "print(Leibniz_sum(0)) # should print 4.0\n",
    "print(Leibniz_sum(20)) # should print 3.189184782277596\n",
    "print(Leibniz_sum(1000)) # 3.1425916543395442"
   ]
  },
  {
   "cell_type": "code",
   "execution_count": 33,
   "metadata": {
    "ExecuteTime": {
     "end_time": "2024-09-27T03:22:44.051789500Z",
     "start_time": "2024-09-27T03:22:43.830382Z"
    }
   },
   "outputs": [
    {
     "name": "stdout",
     "output_type": "stream",
     "text": [
      "1999 3.1410926536210413\n"
     ]
    }
   ],
   "source": [
    "# Question 6b\n",
    "\n",
    "# Using the function Leibniz_sum(n), write code to find the first value for n\n",
    "# for which |Leibniz_sum(n)-math.pi|<0.0005\n",
    "#\n",
    "# For this part, you can either write a function, or just write plain code, up to you.\n",
    "# The output should consist of two values - the value of n and the corresponding approximation of pi\n",
    "\n",
    "import math\n",
    "\n",
    "def find_n_for_approximation(tolerance=0.0005):\n",
    "    n = 0\n",
    "    while abs(Leibniz_sum(n) - math.pi) >= tolerance:\n",
    "        n += 1\n",
    "    return n, Leibniz_sum(n)\n",
    "\n",
    "# Finding the value of n and the corresponding approximation\n",
    "n, pi_approximation = find_n_for_approximation()\n",
    "\n",
    "print(n, pi_approximation)"
   ]
  },
  {
   "cell_type": "code",
   "execution_count": 34,
   "metadata": {
    "ExecuteTime": {
     "end_time": "2024-09-27T03:24:46.473044900Z",
     "start_time": "2024-09-27T03:24:46.457022100Z"
    }
   },
   "outputs": [
    {
     "name": "stdout",
     "output_type": "stream",
     "text": [
      "('real distinct roots', [-2.0, -3.0])\n",
      "('repeated real root', [11.0])\n",
      "('complex conjugate roots', [(4+7j), (4-7j)])\n",
      "('complex conjugate roots', [1j, -1j])\n",
      "('real distinct roots', [1.0, 0.0])\n"
     ]
    }
   ],
   "source": [
    "# Question 7\n",
    "\n",
    "def quadratic(a, b, c):\n",
    "    \"\"\" Solve the quadratic equation ax^2+bx+c=0, and return\n",
    "        the answer as requested in the text of the question. \"\"\"\n",
    "    discriminant = b**2 - 4 * a * c\n",
    "\n",
    "    if discriminant > 0:\n",
    "        # Two distinct real roots\n",
    "        root1 = (-b + math.sqrt(discriminant)) / (2 * a)\n",
    "        root2 = (-b - math.sqrt(discriminant)) / (2 * a)\n",
    "        return ('real distinct roots', [root1, root2])\n",
    "\n",
    "    elif discriminant == 0:\n",
    "        # One repeated real root\n",
    "        root = -b / (2 * a)\n",
    "        return ('repeated real root', [root])\n",
    "\n",
    "    else:\n",
    "        # Complex conjugate roots\n",
    "        real_part = -b / (2 * a)\n",
    "        imaginary_part = math.sqrt(-discriminant) / (2 * a)\n",
    "        return ('complex conjugate roots', [complex(real_part, imaginary_part), complex(real_part, -imaginary_part)])\n",
    "\n",
    "\n",
    "        \n",
    "# note: the output of your print commands does not have to look identical\n",
    "# to what is shown here, but must give the correct text and the correct value(s)\n",
    "\n",
    "# test cases to try out\n",
    "print(quadratic(1,5,6))   # should print  ('real distinct roots', [-2.0, -3.0])\n",
    "print(quadratic(1,-22,121))  # should print  ('repeated real root', [11.0])\n",
    "print(quadratic(1,-8,65))  # should print   ('complex conjugate roots', [(4+7j), (4-7j)])\n",
    "print(quadratic(1,0,1))  # should print   ('complex conjugate roots', [1j, -1j])\n",
    "print(quadratic(1,-1,0))  # should print   ('real distinct roots', [1.0, 0.0])"
   ]
  },
  {
   "cell_type": "code",
   "execution_count": 40,
   "metadata": {
    "ExecuteTime": {
     "end_time": "2024-09-27T03:59:05.166875200Z",
     "start_time": "2024-09-27T03:59:05.166345200Z"
    }
   },
   "outputs": [
    {
     "name": "stdout",
     "output_type": "stream",
     "text": [
      "0 0.12\n",
      "1 0.262943630388474\n",
      "2 0.09117217724476845\n",
      "3 -0.15506071638135188\n",
      "4 -0.32466328410652057\n",
      "5 -0.31182000798059195\n",
      "6 -0.09444937473601156\n",
      "7 0.2585846353968574\n",
      "8 0.6180085261161329\n",
      "9 0.850085143325183\n"
     ]
    }
   ],
   "source": [
    "# Question 8a\n",
    "\n",
    "import math\n",
    "\n",
    "def f(x):\n",
    "    formula = 0.25 * math.sqrt(x) - (math.sin(x / 3))**2 + 0.12\n",
    "    return formula\n",
    "\n",
    "for x in range(0,10):\n",
    "    print(x,f(x))"
   ]
  },
  {
   "cell_type": "code",
   "execution_count": 41,
   "metadata": {
    "ExecuteTime": {
     "end_time": "2024-09-27T03:59:05.553877Z",
     "start_time": "2024-09-27T03:59:05.553877Z"
    }
   },
   "outputs": [
    {
     "name": "stdout",
     "output_type": "stream",
     "text": [
      "Sign change between x = 2.30 and x = 2.40\n",
      "Sign change between x = 6.20 and x = 6.30\n"
     ]
    }
   ],
   "source": [
    "# Question 8b\n",
    "\n",
    "# Use the grid method to locate and print the two roots with the tolerance given below. \n",
    "# For this part, you can either write a function, or just write plain code, up to you.\n",
    "\n",
    "def grid_method(a, b, step):\n",
    "    \"\"\"Use the grid method to find intervals where f(x) changes sign.\"\"\"\n",
    "    x = a\n",
    "    while x < b:\n",
    "        f_x = f(x)\n",
    "        f_next = f(x + step)\n",
    "        if f_x * f_next < 0:  # Sign change indicates a root in the interval\n",
    "            print(f\"Sign change between x = {x:.2f} and x = {x + step:.2f}\")\n",
    "        x += step\n",
    "\n",
    "grid_method(0, 10, 0.1)  # This should print the intervals where roots lie"
   ]
  },
  {
   "cell_type": "code",
   "execution_count": 44,
   "metadata": {
    "ExecuteTime": {
     "end_time": "2024-09-27T04:11:22.511515500Z",
     "start_time": "2024-09-27T04:11:22.500956Z"
    }
   },
   "outputs": [
    {
     "name": "stdout",
     "output_type": "stream",
     "text": [
      "Root 1: 2.3710642735\n",
      "Root 2: 6.2930444543\n"
     ]
    }
   ],
   "source": [
    "# Question 8c\n",
    "\n",
    "# Use Newton's method to locate and print the two roots with the tolerance given below. \n",
    "# For this part, you can either write a function, or just write plain code, up to you.\n",
    "\n",
    "tol=1e-10  ## tolerance \n",
    "\n",
    "import math\n",
    "\n",
    "def fp(x):\n",
    "    f_prime =  0.125 / math.sqrt(x) - (2/3) * math.sin(x / 3) * math.cos(x / 3)\n",
    "    return f_prime\n",
    "\n",
    "def newtons_method(x0, tol=1e-10, max_iter=100):\n",
    "    for i in range(max_iter):\n",
    "        fx = f(x0)\n",
    "        if abs(fx) < tol:\n",
    "            return x0  # Root found within tolerance\n",
    "        f_prime_x = fp(x0)\n",
    "        if f_prime_x == 0:  # Avoid division by zero\n",
    "            print(\"Derivative is zero, cannot continue.\")\n",
    "            return None\n",
    "        x0 = x0 - fx / f_prime_x\n",
    "    print(\"Max iterations reached without finding root.\")\n",
    "    return None\n",
    "\n",
    "\n",
    "root1 = newtons_method(2)  # Guess for the first root\n",
    "root2 = newtons_method(8)  # Guess for the second root\n",
    "\n",
    "# Step 5: Print the results\n",
    "print(f\"Root 1: {root1:.10f}\")\n",
    "print(f\"Root 2: {root2:.10f}\")"
   ]
  },
  {
   "cell_type": "code",
   "execution_count": 48,
   "metadata": {
    "ExecuteTime": {
     "end_time": "2024-09-27T04:16:13.978124700Z",
     "start_time": "2024-09-27T04:16:13.959462100Z"
    }
   },
   "outputs": [
    {
     "name": "stdout",
     "output_type": "stream",
     "text": [
      "(0.6798187341903128, '(max number of terms reached)')\n",
      "(0.6778011938377425, '(tolerance reached)')\n"
     ]
    }
   ],
   "source": [
    "# Question 9\n",
    "\n",
    "import math\n",
    "\n",
    "def erf_series(x,tol,max_terms):\n",
    "    \"\"\" Approximate the value of erf(x) for x=0.7 to the accuracy tol=10**(-10)=1e-10\n",
    "    and max_terms as defined in print commands in the last two lines of this cell.\n",
    "    \n",
    "    Stop the calculation when either of the two events happens:\n",
    "    * the number of terms added exceeds max_steps \n",
    "    * the tolerance tol has been reached, i.e., the absolute value of the next term to \n",
    "           be added is smaller than tol \n",
    "    \n",
    "    Return the approximation and text as shown. \"\"\"\n",
    "    \n",
    "    # Precompute the constant factor 2 / sqrt(pi)\n",
    "    sqrt_pi_inv = 2 / math.sqrt(math.pi)\n",
    "    summation = 0.0  # Initial summation value\n",
    "    i = 0  # Term counter\n",
    "\n",
    "    while i < max_terms:\n",
    "        # Calculate the current term in the series\n",
    "        term = sqrt_pi_inv * (-1)**i * x**(2*i + 1) / ( math.factorial(i) * (2*i + 1) )\n",
    "        # Add the current term to the summation\n",
    "        summation += term\n",
    "        # Check if the term is smaller than the tolerance\n",
    "        if abs(term) < tol:\n",
    "            return summation, \"(tolerance reached)\"\n",
    "        i += 1\n",
    "\n",
    "    # If max_terms is reached, return the result\n",
    "    return summation, \"(max number of terms reached)\"\n",
    "\n",
    "\n",
    "# test cases to try out\n",
    "print(erf_series(0.7, 1e-10, 3))  # should print: 0.6798187341903128 (max number of terms reached) \n",
    "print(erf_series(0.7, tol=1e-10, max_terms=20))  # should print: 0.6778011938294721 (tolerance reached)"
   ]
  },
  {
   "cell_type": "code",
   "execution_count": 50,
   "metadata": {
    "ExecuteTime": {
     "end_time": "2024-09-27T04:21:20.526329300Z",
     "start_time": "2024-09-27T04:21:20.505140800Z"
    }
   },
   "outputs": [
    {
     "name": "stdout",
     "output_type": "stream",
     "text": [
      "[2, 8, 9, 60, 30]\n",
      "[0, 12.0, 5.0, 3.0, 9.0, 1.0]\n",
      "[1.0, 142.0, 54.0, 67.0, 8.0]\n"
     ]
    }
   ],
   "source": [
    "# Questions 10a and 10b\n",
    "\n",
    "def differentiate_polynomial(pol):\n",
    "    if len(pol) <= 1:\n",
    "        return [0]\n",
    "\n",
    "    derivative = []\n",
    "    for i in range(1, len(pol)):\n",
    "        derivative.append(i * pol[i])\n",
    "\n",
    "    return derivative\n",
    "    \n",
    "def integrate_polynomial(pol):\n",
    "    antiderivative = [0]  # Start with 0 for the constant of integration\n",
    "\n",
    "    for i in range(len(pol)):\n",
    "        antiderivative.append(pol[i] / (i + 1))\n",
    "\n",
    "    return antiderivative\n",
    "\n",
    "print(differentiate_polynomial([1,2,4,3,15,6]))   # should print  [2, 8, 9, 60, 30]\n",
    "print(integrate_polynomial([12,10,9,36,5])) # should print [0, 12.0, 5.0, 3.0, 9.0, 1.0]\n",
    "print(differentiate_polynomial(integrate_polynomial([1,142,54,67,8])))  # should print ... think!"
   ]
  }
 ],
 "metadata": {
  "kernelspec": {
   "display_name": "Python 3 (ipykernel)",
   "language": "python",
   "name": "python3"
  },
  "language_info": {
   "codemirror_mode": {
    "name": "ipython",
    "version": 3
   },
   "file_extension": ".py",
   "mimetype": "text/x-python",
   "name": "python",
   "nbconvert_exporter": "python",
   "pygments_lexer": "ipython3",
   "version": "3.9.13"
  }
 },
 "nbformat": 4,
 "nbformat_minor": 4
}
