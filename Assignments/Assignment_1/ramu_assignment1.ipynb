{
 "cells": [
  {
   "cell_type": "markdown",
   "metadata": {},
   "source": [
    "<font color='navy'><h3> <u> Math 1MP3 - Assignment 1</u> </h3></font>"
   ]
  },
  {
   "cell_type": "code",
   "execution_count": null,
   "metadata": {},
   "outputs": [],
   "source": [
    "# Question 1\n",
    "\n",
    "def is_symmetric(M):\n",
    "    \"\"\" A 3 by 3 matrix M is given as a list with three elements, \n",
    "        each of which is one row in M. \n",
    "        Return True if M is symmetric, and False otherwise. \"\"\"\n",
    "\n",
    "    # insert your code here\n",
    "    \n",
    "\n",
    "# test cases to try out\n",
    "print(is_symmetric([[1,2,3],[2,5,8],[3,8,7]])) # should print True\n",
    "print(is_symmetric([[1,2,3],[2,5,8],[7,8,3]])) # should print False\n",
    "print(is_symmetric([[1,0,0],[0,5,0],[1,0,9]])) # should print False"
   ]
  },
  {
   "cell_type": "code",
   "execution_count": null,
   "metadata": {},
   "outputs": [],
   "source": [
    "# Question 2\n",
    "\n",
    "def generation(birth_year):\n",
    "    \"\"\" The person born between 1945 and 1964 is called Baby boomer.\n",
    "        Those born between 1965 and 1981 are called Generation X.\n",
    "        The person born between 1982 and 1996 are known as Millennial.\n",
    "        The people born between 1997 and 2010 are called Generation Z.\n",
    "        Those born in 2011 or later have been named Alpha generation.\n",
    "        Given a person's birth_year between 1945 and 2021, \n",
    "        return the name of their generation. \"\"\"\n",
    "    \n",
    "    # insert your code here\n",
    "    \n",
    "\n",
    "# test cases to try out\n",
    "print(generation(1945)) # should print Baby boomer\n",
    "print(generation(1997)) # should print Generation Z\n",
    "print(generation(2020)) # should print Alpha generation\n",
    "print(generation(1979)) # should print Generation X"
   ]
  },
  {
   "cell_type": "code",
   "execution_count": null,
   "metadata": {},
   "outputs": [],
   "source": [
    "# Question 3a\n",
    "\n",
    "def interesting_sum(N,p,q):\n",
    "    \"\"\" Given three positive integers N, p, and q, return the sum of all integers \n",
    "        from 1 to N (including 1 and N) which are divisible by either p or q. \n",
    "        Note: 'either or' is inclusive 'or' \"\"\"\n",
    "    \n",
    "    # insert your code here\n",
    "    \n",
    "    \n",
    "# test cases to try out\n",
    "print(interesting_sum(10,2,5)) # should print 35\n",
    "print(interesting_sum(100,7,11)) # should print 1153\n",
    "print(interesting_sum(100,26,59)) # should print 215"
   ]
  },
  {
   "cell_type": "code",
   "execution_count": null,
   "metadata": {},
   "outputs": [],
   "source": [
    "# Question 3b\n",
    "\n",
    "def divisors(N):\n",
    "    \"\"\" Return a list of all divisors for a positive integer N>1. \"\"\"\n",
    "    \n",
    "    # insert your code here\n",
    "    \n",
    "    \n",
    "# test cases to try out\n",
    "print(divisors(7)) # should print [1,7]\n",
    "print(divisors(8)) # should print [1,2,4,8]"
   ]
  },
  {
   "cell_type": "code",
   "execution_count": null,
   "metadata": {},
   "outputs": [],
   "source": [
    "# Question 3c\n",
    "\n",
    "def prime_composite(N):\n",
    "    \"\"\" Given a positive integer N>1, return a statement indicating \n",
    "    whether it is prime or composite. \"\"\"\n",
    "    \n",
    "    # insert your code here\n",
    "    \n",
    "    \n",
    "# test cases to try out\n",
    "print(prime_composite(7)) # should print: 7 is prime\n",
    "print(prime_composite(8)) # should print: 8 is composite"
   ]
  },
  {
   "cell_type": "code",
   "execution_count": null,
   "metadata": {},
   "outputs": [],
   "source": [
    "# Question 4\n",
    "\n",
    "def count_math(s):\n",
    "    \"\"\" Return the number of times the string 'math' appears in the given string s. \n",
    "        Do NOT use Python's count command. Write your own code.\"\"\"\n",
    "    \n",
    "    # insert your code here\n",
    "    \n",
    "    \n",
    "# test cases to try out\n",
    "print(count_math('mmatmmatthhamath')) # should print 1\n",
    "print(count_math('23matthathmaath')) # should print 0\n",
    "print(count_math('mathxmathmmathhh')) # should print 3"
   ]
  },
  {
   "cell_type": "code",
   "execution_count": null,
   "metadata": {},
   "outputs": [],
   "source": [
    "# Question 5\n",
    "\n",
    "def round10(num):\n",
    "    \"\"\" For a given positive integer num, round it to the nearest multiple of 10.\n",
    "        Do NOT use Python's round command. Write your own code.\"\"\"\n",
    "\n",
    "    # insert your code here\n",
    "    \n",
    "     \n",
    "# test cases to try out\n",
    "print(round10(5555)) # should print 5560\n",
    "print(round10(60)) # should print 60\n",
    "print(round10(668)) # should print 670\n",
    "print(round10(114)) # should print 110"
   ]
  },
  {
   "cell_type": "code",
   "execution_count": null,
   "metadata": {},
   "outputs": [],
   "source": [
    "# Question 6a\n",
    "\n",
    "def Leibniz_sum(n):\n",
    "    \"\"\" Write the code for the function, and check using test cases below\n",
    "        to make sure that it's correct. You will use this function to \n",
    "        answer the remaining part of Question 6 in the next cell.\"\"\"\n",
    "    \n",
    "    # insert your code here\n",
    "\n",
    "    \n",
    "# test cases to try out\n",
    "print(Leibniz_sum(0)) # should print 4.0\n",
    "print(Leibniz_sum(20)) # should print 3.189184782277596\n",
    "print(Leibniz_sum(1000)) # 3.1425916543395442"
   ]
  },
  {
   "cell_type": "code",
   "execution_count": null,
   "metadata": {},
   "outputs": [],
   "source": [
    "# Question 6b\n",
    "\n",
    "# Using the function Leibniz_sum(n), write code to find the first value for n\n",
    "# for which |Leibniz_sum(n)-math.pi|<0.0005\n",
    "#\n",
    "# For this part, you can either write a function, or just write plain code, up to you.\n",
    "# The output should consist of two values - the value of n and the corresponding approximation of pi\n",
    "\n",
    "import math\n",
    "\n",
    "# type your code here\n",
    "\n"
   ]
  },
  {
   "cell_type": "code",
   "execution_count": null,
   "metadata": {},
   "outputs": [],
   "source": [
    "# Question 7\n",
    "\n",
    "def quadratic(a, b, c):\n",
    "    \"\"\" Solve the quadratic equation ax^2+bx+c=0, and return\n",
    "        the answer as requested in the text of the question. \"\"\"\n",
    "    \n",
    "    # insert your code here\n",
    "\n",
    "        \n",
    "# note: the output of your print commands does not have to look identical\n",
    "# to what is shown here, but must give the correct text and the correct value(s)\n",
    "\n",
    "# test cases to try out\n",
    "print(quadratic(1,5,6))   # should print  ('real distinct roots', [-2.0, -3.0])\n",
    "print(quadratic(1,-22,121))  # should print  ('repeated real root', [11.0])\n",
    "print(quadratic(1,-8,65))  # should print   ('complex conjugate roots', [(4+7j), (4-7j)])\n",
    "print(quadratic(1,0,1))  # should print   ('complex conjugate roots', [1j, -1j])\n",
    "print(quadratic(1,-1,0))  # should print   ('real distinct roots', [1.0, 0.0])"
   ]
  },
  {
   "cell_type": "code",
   "execution_count": null,
   "metadata": {},
   "outputs": [],
   "source": [
    "# Question 8a\n",
    "\n",
    "import math\n",
    "\n",
    "def f(x):\n",
    "    ### type your formula for f(x) here\n",
    "    \n",
    "\n",
    "for x in range(0,10):\n",
    "    print(x,f(x))"
   ]
  },
  {
   "cell_type": "code",
   "execution_count": null,
   "metadata": {},
   "outputs": [],
   "source": [
    "# Question 8b\n",
    "\n",
    "# Use the grid method to locate and print the two roots with the tolerance given below. \n",
    "# For this part, you can either write a function, or just write plain code, up to you.\n",
    "\n",
    "tol=1e-10  ## tolerance \n",
    "\n",
    "# type your code here\n",
    "\n"
   ]
  },
  {
   "cell_type": "code",
   "execution_count": null,
   "metadata": {},
   "outputs": [],
   "source": [
    "# Question 8c\n",
    "\n",
    "# Use Newton's method to locate and print the two roots with the tolerance given below. \n",
    "# For this part, you can either write a function, or just write plain code, up to you.\n",
    "\n",
    "tol=1e-10  ## tolerance \n",
    "\n",
    "import math\n",
    "\n",
    "def fp(x):\n",
    "    ## calculate f'(x) algebraically and type its formula here\n",
    "\n",
    "# type the rest of your code here\n",
    "\n"
   ]
  },
  {
   "cell_type": "code",
   "execution_count": null,
   "metadata": {},
   "outputs": [],
   "source": [
    "# Question 9\n",
    "\n",
    "import math\n",
    "\n",
    "def erf_series(x,tol,max_terms):\n",
    "    \"\"\" Approximate the value of erf(x) for x=0.7 to the accuracy tol=10**(-10)=1e-10\n",
    "    and max_terms as defined in print commands in the last two lines of this cell.\n",
    "    \n",
    "    Stop the calculation when either of the two events happens:\n",
    "    * the number of terms added exceeds max_steps \n",
    "    * the tolerance tol has been reached, i.e., the absolute value of the next term to \n",
    "           be added is smaller than tol \n",
    "    \n",
    "    Return the approximation and text as shown. \"\"\"\n",
    "    \n",
    "    # insert your code here \n",
    "        \n",
    "        \n",
    "# note: the output of your print commands does not have to look identical\n",
    "# to what is shown here, but must give the correct text and the correct value(s)\n",
    "# note: there could be slight discrepancy in the\n",
    "# precision of the answer, depending how you code the summation \n",
    "\n",
    "# test cases to try out\n",
    "print(erf_series(0.7, 1e-10, 3))  # should print: 0.6798187341903128 (max number of terms reached) \n",
    "print(erf_series(0.7, tol=1e-10, max_terms=20))  # should print: 0.6778011938294721 (tolerance reached)"
   ]
  },
  {
   "cell_type": "code",
   "execution_count": null,
   "metadata": {},
   "outputs": [],
   "source": [
    "# Questions 10a and 10b\n",
    "\n",
    "def differentiate_polynomial(pol):\n",
    "    # insert your code here     \n",
    "\n",
    "    \n",
    "def integrate_polynomial(pol):\n",
    "    # insert your code here     \n",
    "    \n",
    "\n",
    "print(differentiate_polynomial([1,2,4,3,15,6]))   # should print  [2, 8, 9, 60, 30]\n",
    "print(integrate_polynomial([12,10,9,36,5])) # should print [0, 12.0, 5.0, 3.0, 9.0, 1.0]\n",
    "print(differentiate_polynomial(integrate_polynomial([1,142,54,67,8])))  # should print ... think!"
   ]
  }
 ],
 "metadata": {
  "kernelspec": {
   "display_name": "Python 3 (ipykernel)",
   "language": "python",
   "name": "python3"
  },
  "language_info": {
   "codemirror_mode": {
    "name": "ipython",
    "version": 3
   },
   "file_extension": ".py",
   "mimetype": "text/x-python",
   "name": "python",
   "nbconvert_exporter": "python",
   "pygments_lexer": "ipython3",
   "version": "3.9.13"
  }
 },
 "nbformat": 4,
 "nbformat_minor": 4
}
